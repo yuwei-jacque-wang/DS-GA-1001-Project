{
 "cells": [
  {
   "cell_type": "markdown",
   "metadata": {},
   "source": [
    "# DS-GA 1001 Project\n",
    "## Scale and Split\n",
    "\n",
    "This script splits whole training sample and apply standard scale for Project\n",
    "***"
   ]
  },
  {
   "cell_type": "code",
   "execution_count": 0,
   "metadata": {
    "colab": {},
    "colab_type": "code",
    "id": "4gCsHrjm_-gC"
   },
   "outputs": [],
   "source": [
    "import pandas as pd\n",
    "import numpy as np"
   ]
  },
  {
   "cell_type": "code",
   "execution_count": 2,
   "metadata": {
    "colab": {
     "base_uri": "https://localhost:8080/",
     "height": 35
    },
    "colab_type": "code",
    "executionInfo": {
     "elapsed": 972,
     "status": "ok",
     "timestamp": 1575780060070,
     "user": {
      "displayName": "Man Jin",
      "photoUrl": "",
      "userId": "09109181000609836024"
     },
     "user_tz": 300
    },
    "id": "h5IkOAPeIK-D",
    "outputId": "d77543d8-2256-4a39-8c4b-d6ebf54c43f9"
   },
   "outputs": [
    {
     "name": "stdout",
     "output_type": "stream",
     "text": [
      "Drive already mounted at /content/drive; to attempt to forcibly remount, call drive.mount(\"/content/drive\", force_remount=True).\n"
     ]
    }
   ],
   "source": [
    "from google.colab import drive\n",
    "drive.mount('/content/drive')"
   ]
  },
  {
   "cell_type": "code",
   "execution_count": 0,
   "metadata": {
    "colab": {},
    "colab_type": "code",
    "id": "KFO9MsfWCEnH"
   },
   "outputs": [],
   "source": [
    "# folder_name = 'Part1_Data'\n",
    "# data_name = 'Part1_Data'\n",
    "folder_name = 'Part2_Win6_Data'\n",
    "data_name = 'Part2_Win6'"
   ]
  },
  {
   "cell_type": "code",
   "execution_count": 0,
   "metadata": {
    "colab": {},
    "colab_type": "code",
    "id": "ZG_j7sCy_-gM"
   },
   "outputs": [],
   "source": [
    "data = pd.read_csv(f\"drive/My Drive/1001 Project/{folder_name}/{data_name}.csv\")"
   ]
  },
  {
   "cell_type": "code",
   "execution_count": 5,
   "metadata": {
    "colab": {
     "base_uri": "https://localhost:8080/",
     "height": 70
    },
    "colab_type": "code",
    "executionInfo": {
     "elapsed": 1676,
     "status": "ok",
     "timestamp": 1575780060820,
     "user": {
      "displayName": "Man Jin",
      "photoUrl": "",
      "userId": "09109181000609836024"
     },
     "user_tz": 300
    },
    "id": "IvOAicS6vYV4",
    "outputId": "94cf6db2-a9e3-4925-e58f-24967736f56e"
   },
   "outputs": [
    {
     "data": {
      "text/plain": [
       "0    41094\n",
       "1     7350\n",
       "Name: default, dtype: int64"
      ]
     },
     "execution_count": 5,
     "metadata": {
      "tags": []
     },
     "output_type": "execute_result"
    }
   ],
   "source": [
    "data['default'].value_counts()"
   ]
  },
  {
   "cell_type": "code",
   "execution_count": 0,
   "metadata": {
    "colab": {},
    "colab_type": "code",
    "id": "KMN9fjOCFznX"
   },
   "outputs": [],
   "source": [
    "# Only for data in Part 2\n",
    "data = data.iloc[:, 1:]"
   ]
  },
  {
   "cell_type": "code",
   "execution_count": 7,
   "metadata": {
    "colab": {
     "base_uri": "https://localhost:8080/",
     "height": 220
    },
    "colab_type": "code",
    "executionInfo": {
     "elapsed": 1646,
     "status": "ok",
     "timestamp": 1575780060827,
     "user": {
      "displayName": "Man Jin",
      "photoUrl": "",
      "userId": "09109181000609836024"
     },
     "user_tz": 300
    },
    "id": "MlkvvECVEpdt",
    "outputId": "74ba6b15-6cb5-496a-a1c6-ab30d64334f6"
   },
   "outputs": [
    {
     "data": {
      "text/html": [
       "<div>\n",
       "<style scoped>\n",
       "    .dataframe tbody tr th:only-of-type {\n",
       "        vertical-align: middle;\n",
       "    }\n",
       "\n",
       "    .dataframe tbody tr th {\n",
       "        vertical-align: top;\n",
       "    }\n",
       "\n",
       "    .dataframe thead th {\n",
       "        text-align: right;\n",
       "    }\n",
       "</style>\n",
       "<table border=\"1\" class=\"dataframe\">\n",
       "  <thead>\n",
       "    <tr style=\"text-align: right;\">\n",
       "      <th></th>\n",
       "      <th>id</th>\n",
       "      <th>mat_time</th>\n",
       "      <th>balance_orig_time</th>\n",
       "      <th>balance_time</th>\n",
       "      <th>LTV_orig_time</th>\n",
       "      <th>LTV_time</th>\n",
       "      <th>interest_rate_time</th>\n",
       "      <th>Interest_Rate_orig_time</th>\n",
       "      <th>hpi_time</th>\n",
       "      <th>hpi_orig_time</th>\n",
       "      <th>gdp_time</th>\n",
       "      <th>uer_time</th>\n",
       "      <th>REtype_CO_orig_time</th>\n",
       "      <th>REtype_PU_orig_time</th>\n",
       "      <th>REtype_SF_orig_time</th>\n",
       "      <th>investor_orig_time</th>\n",
       "      <th>FICO_orig_time</th>\n",
       "      <th>default</th>\n",
       "      <th>payoff</th>\n",
       "      <th>status</th>\n",
       "      <th>payment_hist</th>\n",
       "      <th>avg_payment</th>\n",
       "      <th>std_payment</th>\n",
       "      <th>max_payment</th>\n",
       "      <th>min_payment</th>\n",
       "      <th>count_zero_payment</th>\n",
       "      <th>count_low_payment</th>\n",
       "    </tr>\n",
       "  </thead>\n",
       "  <tbody>\n",
       "    <tr>\n",
       "      <th>0</th>\n",
       "      <td>7776</td>\n",
       "      <td>116</td>\n",
       "      <td>39440.0</td>\n",
       "      <td>39114.43</td>\n",
       "      <td>80.0</td>\n",
       "      <td>63.794472</td>\n",
       "      <td>9.875</td>\n",
       "      <td>9.875</td>\n",
       "      <td>113.56</td>\n",
       "      <td>91.31</td>\n",
       "      <td>2.847896</td>\n",
       "      <td>3.9</td>\n",
       "      <td>0</td>\n",
       "      <td>0</td>\n",
       "      <td>1</td>\n",
       "      <td>0</td>\n",
       "      <td>518</td>\n",
       "      <td>0</td>\n",
       "      <td>1.0</td>\n",
       "      <td>2</td>\n",
       "      <td>7</td>\n",
       "      <td>60.060</td>\n",
       "      <td>1.046518</td>\n",
       "      <td>60.80</td>\n",
       "      <td>59.32</td>\n",
       "      <td>0</td>\n",
       "      <td>0</td>\n",
       "    </tr>\n",
       "    <tr>\n",
       "      <th>1</th>\n",
       "      <td>7777</td>\n",
       "      <td>117</td>\n",
       "      <td>148000.0</td>\n",
       "      <td>146409.67</td>\n",
       "      <td>80.0</td>\n",
       "      <td>63.634259</td>\n",
       "      <td>8.250</td>\n",
       "      <td>8.250</td>\n",
       "      <td>113.56</td>\n",
       "      <td>91.31</td>\n",
       "      <td>2.847896</td>\n",
       "      <td>3.9</td>\n",
       "      <td>0</td>\n",
       "      <td>0</td>\n",
       "      <td>1</td>\n",
       "      <td>0</td>\n",
       "      <td>658</td>\n",
       "      <td>0</td>\n",
       "      <td>0.0</td>\n",
       "      <td>0</td>\n",
       "      <td>7</td>\n",
       "      <td>308.445</td>\n",
       "      <td>4.475986</td>\n",
       "      <td>311.61</td>\n",
       "      <td>305.28</td>\n",
       "      <td>0</td>\n",
       "      <td>0</td>\n",
       "    </tr>\n",
       "    <tr>\n",
       "      <th>2</th>\n",
       "      <td>7778</td>\n",
       "      <td>117</td>\n",
       "      <td>127800.0</td>\n",
       "      <td>126732.05</td>\n",
       "      <td>90.0</td>\n",
       "      <td>71.761428</td>\n",
       "      <td>9.500</td>\n",
       "      <td>9.500</td>\n",
       "      <td>113.56</td>\n",
       "      <td>91.31</td>\n",
       "      <td>2.847896</td>\n",
       "      <td>3.9</td>\n",
       "      <td>0</td>\n",
       "      <td>0</td>\n",
       "      <td>1</td>\n",
       "      <td>0</td>\n",
       "      <td>613</td>\n",
       "      <td>0</td>\n",
       "      <td>1.0</td>\n",
       "      <td>2</td>\n",
       "      <td>7</td>\n",
       "      <td>208.240</td>\n",
       "      <td>3.337544</td>\n",
       "      <td>210.60</td>\n",
       "      <td>205.88</td>\n",
       "      <td>0</td>\n",
       "      <td>0</td>\n",
       "    </tr>\n",
       "    <tr>\n",
       "      <th>3</th>\n",
       "      <td>7779</td>\n",
       "      <td>117</td>\n",
       "      <td>72000.0</td>\n",
       "      <td>71442.25</td>\n",
       "      <td>80.0</td>\n",
       "      <td>63.827168</td>\n",
       "      <td>9.875</td>\n",
       "      <td>9.875</td>\n",
       "      <td>113.56</td>\n",
       "      <td>91.31</td>\n",
       "      <td>2.847896</td>\n",
       "      <td>3.9</td>\n",
       "      <td>0</td>\n",
       "      <td>1</td>\n",
       "      <td>0</td>\n",
       "      <td>0</td>\n",
       "      <td>645</td>\n",
       "      <td>1</td>\n",
       "      <td>0.0</td>\n",
       "      <td>1</td>\n",
       "      <td>7</td>\n",
       "      <td>109.135</td>\n",
       "      <td>1.336432</td>\n",
       "      <td>110.08</td>\n",
       "      <td>108.19</td>\n",
       "      <td>0</td>\n",
       "      <td>0</td>\n",
       "    </tr>\n",
       "    <tr>\n",
       "      <th>4</th>\n",
       "      <td>7780</td>\n",
       "      <td>117</td>\n",
       "      <td>120000.0</td>\n",
       "      <td>119501.74</td>\n",
       "      <td>80.0</td>\n",
       "      <td>64.058377</td>\n",
       "      <td>9.375</td>\n",
       "      <td>9.375</td>\n",
       "      <td>113.56</td>\n",
       "      <td>91.31</td>\n",
       "      <td>2.847896</td>\n",
       "      <td>3.9</td>\n",
       "      <td>0</td>\n",
       "      <td>0</td>\n",
       "      <td>1</td>\n",
       "      <td>0</td>\n",
       "      <td>632</td>\n",
       "      <td>0</td>\n",
       "      <td>1.0</td>\n",
       "      <td>2</td>\n",
       "      <td>7</td>\n",
       "      <td>63.745</td>\n",
       "      <td>90.149044</td>\n",
       "      <td>127.49</td>\n",
       "      <td>0.00</td>\n",
       "      <td>1</td>\n",
       "      <td>0</td>\n",
       "    </tr>\n",
       "  </tbody>\n",
       "</table>\n",
       "</div>"
      ],
      "text/plain": [
       "     id  mat_time  ...  count_zero_payment  count_low_payment\n",
       "0  7776       116  ...                   0                  0\n",
       "1  7777       117  ...                   0                  0\n",
       "2  7778       117  ...                   0                  0\n",
       "3  7779       117  ...                   0                  0\n",
       "4  7780       117  ...                   1                  0\n",
       "\n",
       "[5 rows x 27 columns]"
      ]
     },
     "execution_count": 7,
     "metadata": {
      "tags": []
     },
     "output_type": "execute_result"
    }
   ],
   "source": [
    "data.head()"
   ]
  },
  {
   "cell_type": "code",
   "execution_count": 0,
   "metadata": {
    "colab": {},
    "colab_type": "code",
    "id": "rKemI7W4nXv9"
   },
   "outputs": [],
   "source": [
    "# from pandas_profiling import ProfileReport\n",
    "# ProfileReport(data)"
   ]
  },
  {
   "cell_type": "code",
   "execution_count": 0,
   "metadata": {
    "colab": {},
    "colab_type": "code",
    "id": "0jfz6X_FxTk3"
   },
   "outputs": [],
   "source": [
    "# data.drop(columns=['payoff_time', 'status_time'], inplace=True) # part1\n",
    "data.drop(columns=['payoff', 'status'], inplace=True) # part 2"
   ]
  },
  {
   "cell_type": "code",
   "execution_count": 10,
   "metadata": {
    "colab": {
     "base_uri": "https://localhost:8080/",
     "height": 220
    },
    "colab_type": "code",
    "executionInfo": {
     "elapsed": 1780,
     "status": "ok",
     "timestamp": 1575780061010,
     "user": {
      "displayName": "Man Jin",
      "photoUrl": "",
      "userId": "09109181000609836024"
     },
     "user_tz": 300
    },
    "id": "Jj2xwDER_-gS",
    "outputId": "6f8ac53f-fd53-4f9c-9262-cd23191059f1"
   },
   "outputs": [
    {
     "data": {
      "text/html": [
       "<div>\n",
       "<style scoped>\n",
       "    .dataframe tbody tr th:only-of-type {\n",
       "        vertical-align: middle;\n",
       "    }\n",
       "\n",
       "    .dataframe tbody tr th {\n",
       "        vertical-align: top;\n",
       "    }\n",
       "\n",
       "    .dataframe thead th {\n",
       "        text-align: right;\n",
       "    }\n",
       "</style>\n",
       "<table border=\"1\" class=\"dataframe\">\n",
       "  <thead>\n",
       "    <tr style=\"text-align: right;\">\n",
       "      <th></th>\n",
       "      <th>id</th>\n",
       "      <th>mat_time</th>\n",
       "      <th>balance_orig_time</th>\n",
       "      <th>balance_time</th>\n",
       "      <th>LTV_orig_time</th>\n",
       "      <th>LTV_time</th>\n",
       "      <th>interest_rate_time</th>\n",
       "      <th>Interest_Rate_orig_time</th>\n",
       "      <th>hpi_time</th>\n",
       "      <th>hpi_orig_time</th>\n",
       "      <th>gdp_time</th>\n",
       "      <th>uer_time</th>\n",
       "      <th>REtype_CO_orig_time</th>\n",
       "      <th>REtype_PU_orig_time</th>\n",
       "      <th>REtype_SF_orig_time</th>\n",
       "      <th>investor_orig_time</th>\n",
       "      <th>FICO_orig_time</th>\n",
       "      <th>default</th>\n",
       "      <th>payment_hist</th>\n",
       "      <th>avg_payment</th>\n",
       "      <th>std_payment</th>\n",
       "      <th>max_payment</th>\n",
       "      <th>min_payment</th>\n",
       "      <th>count_zero_payment</th>\n",
       "      <th>count_low_payment</th>\n",
       "    </tr>\n",
       "  </thead>\n",
       "  <tbody>\n",
       "    <tr>\n",
       "      <th>0</th>\n",
       "      <td>7776</td>\n",
       "      <td>116</td>\n",
       "      <td>39440.0</td>\n",
       "      <td>39114.43</td>\n",
       "      <td>80.0</td>\n",
       "      <td>63.794472</td>\n",
       "      <td>9.875</td>\n",
       "      <td>9.875</td>\n",
       "      <td>113.56</td>\n",
       "      <td>91.31</td>\n",
       "      <td>2.847896</td>\n",
       "      <td>3.9</td>\n",
       "      <td>0</td>\n",
       "      <td>0</td>\n",
       "      <td>1</td>\n",
       "      <td>0</td>\n",
       "      <td>518</td>\n",
       "      <td>0</td>\n",
       "      <td>7</td>\n",
       "      <td>60.060</td>\n",
       "      <td>1.046518</td>\n",
       "      <td>60.80</td>\n",
       "      <td>59.32</td>\n",
       "      <td>0</td>\n",
       "      <td>0</td>\n",
       "    </tr>\n",
       "    <tr>\n",
       "      <th>1</th>\n",
       "      <td>7777</td>\n",
       "      <td>117</td>\n",
       "      <td>148000.0</td>\n",
       "      <td>146409.67</td>\n",
       "      <td>80.0</td>\n",
       "      <td>63.634259</td>\n",
       "      <td>8.250</td>\n",
       "      <td>8.250</td>\n",
       "      <td>113.56</td>\n",
       "      <td>91.31</td>\n",
       "      <td>2.847896</td>\n",
       "      <td>3.9</td>\n",
       "      <td>0</td>\n",
       "      <td>0</td>\n",
       "      <td>1</td>\n",
       "      <td>0</td>\n",
       "      <td>658</td>\n",
       "      <td>0</td>\n",
       "      <td>7</td>\n",
       "      <td>308.445</td>\n",
       "      <td>4.475986</td>\n",
       "      <td>311.61</td>\n",
       "      <td>305.28</td>\n",
       "      <td>0</td>\n",
       "      <td>0</td>\n",
       "    </tr>\n",
       "    <tr>\n",
       "      <th>2</th>\n",
       "      <td>7778</td>\n",
       "      <td>117</td>\n",
       "      <td>127800.0</td>\n",
       "      <td>126732.05</td>\n",
       "      <td>90.0</td>\n",
       "      <td>71.761428</td>\n",
       "      <td>9.500</td>\n",
       "      <td>9.500</td>\n",
       "      <td>113.56</td>\n",
       "      <td>91.31</td>\n",
       "      <td>2.847896</td>\n",
       "      <td>3.9</td>\n",
       "      <td>0</td>\n",
       "      <td>0</td>\n",
       "      <td>1</td>\n",
       "      <td>0</td>\n",
       "      <td>613</td>\n",
       "      <td>0</td>\n",
       "      <td>7</td>\n",
       "      <td>208.240</td>\n",
       "      <td>3.337544</td>\n",
       "      <td>210.60</td>\n",
       "      <td>205.88</td>\n",
       "      <td>0</td>\n",
       "      <td>0</td>\n",
       "    </tr>\n",
       "    <tr>\n",
       "      <th>3</th>\n",
       "      <td>7779</td>\n",
       "      <td>117</td>\n",
       "      <td>72000.0</td>\n",
       "      <td>71442.25</td>\n",
       "      <td>80.0</td>\n",
       "      <td>63.827168</td>\n",
       "      <td>9.875</td>\n",
       "      <td>9.875</td>\n",
       "      <td>113.56</td>\n",
       "      <td>91.31</td>\n",
       "      <td>2.847896</td>\n",
       "      <td>3.9</td>\n",
       "      <td>0</td>\n",
       "      <td>1</td>\n",
       "      <td>0</td>\n",
       "      <td>0</td>\n",
       "      <td>645</td>\n",
       "      <td>1</td>\n",
       "      <td>7</td>\n",
       "      <td>109.135</td>\n",
       "      <td>1.336432</td>\n",
       "      <td>110.08</td>\n",
       "      <td>108.19</td>\n",
       "      <td>0</td>\n",
       "      <td>0</td>\n",
       "    </tr>\n",
       "    <tr>\n",
       "      <th>4</th>\n",
       "      <td>7780</td>\n",
       "      <td>117</td>\n",
       "      <td>120000.0</td>\n",
       "      <td>119501.74</td>\n",
       "      <td>80.0</td>\n",
       "      <td>64.058377</td>\n",
       "      <td>9.375</td>\n",
       "      <td>9.375</td>\n",
       "      <td>113.56</td>\n",
       "      <td>91.31</td>\n",
       "      <td>2.847896</td>\n",
       "      <td>3.9</td>\n",
       "      <td>0</td>\n",
       "      <td>0</td>\n",
       "      <td>1</td>\n",
       "      <td>0</td>\n",
       "      <td>632</td>\n",
       "      <td>0</td>\n",
       "      <td>7</td>\n",
       "      <td>63.745</td>\n",
       "      <td>90.149044</td>\n",
       "      <td>127.49</td>\n",
       "      <td>0.00</td>\n",
       "      <td>1</td>\n",
       "      <td>0</td>\n",
       "    </tr>\n",
       "  </tbody>\n",
       "</table>\n",
       "</div>"
      ],
      "text/plain": [
       "     id  mat_time  ...  count_zero_payment  count_low_payment\n",
       "0  7776       116  ...                   0                  0\n",
       "1  7777       117  ...                   0                  0\n",
       "2  7778       117  ...                   0                  0\n",
       "3  7779       117  ...                   0                  0\n",
       "4  7780       117  ...                   1                  0\n",
       "\n",
       "[5 rows x 25 columns]"
      ]
     },
     "execution_count": 10,
     "metadata": {
      "tags": []
     },
     "output_type": "execute_result"
    }
   ],
   "source": [
    "data.head()"
   ]
  },
  {
   "cell_type": "code",
   "execution_count": 0,
   "metadata": {
    "colab": {},
    "colab_type": "code",
    "id": "r1GFNv59IuzH"
   },
   "outputs": [],
   "source": [
    "# data = data.rename(columns={'default_time': \"default\"}) # part 1"
   ]
  },
  {
   "cell_type": "code",
   "execution_count": 0,
   "metadata": {
    "colab": {},
    "colab_type": "code",
    "id": "NuZdczzUHWKN"
   },
   "outputs": [],
   "source": [
    "num_cols = []\n",
    "bool_cols = []\n",
    "for col in data.columns:\n",
    "    if len(data[col].unique()) == 2:\n",
    "        bool_cols.append(col)\n",
    "    else:\n",
    "        if col !='id':\n",
    "          num_cols.append(col)"
   ]
  },
  {
   "cell_type": "code",
   "execution_count": 0,
   "metadata": {
    "colab": {},
    "colab_type": "code",
    "id": "silMnHLuvyTq"
   },
   "outputs": [],
   "source": [
    "train, validate, test = np.split(data.sample(frac=1, random_state=1211), [int(.7*len(data)), int(.9*len(data))])"
   ]
  },
  {
   "cell_type": "code",
   "execution_count": 0,
   "metadata": {
    "colab": {},
    "colab_type": "code",
    "id": "m0R0uUBk_zD0"
   },
   "outputs": [],
   "source": [
    "train.reset_index(inplace=True)\n",
    "validate.reset_index(inplace=True)\n",
    "test.reset_index(inplace=True)"
   ]
  },
  {
   "cell_type": "code",
   "execution_count": 0,
   "metadata": {
    "colab": {},
    "colab_type": "code",
    "id": "cUqi2B-5HaLi"
   },
   "outputs": [],
   "source": [
    "train = train[['id']+num_cols+bool_cols]\n",
    "validate = validate[['id']+num_cols+bool_cols]\n",
    "test = test[['id']+num_cols+bool_cols]"
   ]
  },
  {
   "cell_type": "code",
   "execution_count": 0,
   "metadata": {
    "colab": {},
    "colab_type": "code",
    "id": "ve8DxCau_-h4"
   },
   "outputs": [],
   "source": [
    "train.to_csv(f'drive/My Drive/1001 Project/{folder_name}/{data_name}_train.csv', index=False)"
   ]
  },
  {
   "cell_type": "code",
   "execution_count": 0,
   "metadata": {
    "colab": {},
    "colab_type": "code",
    "id": "kiv8cJKhyFGY"
   },
   "outputs": [],
   "source": [
    "validate.to_csv(f'drive/My Drive/1001 Project/{folder_name}/{data_name}_val.csv', index=False)"
   ]
  },
  {
   "cell_type": "code",
   "execution_count": 0,
   "metadata": {
    "colab": {},
    "colab_type": "code",
    "id": "Mt6AIg8OyVEt"
   },
   "outputs": [],
   "source": [
    "test.to_csv(f'drive/My Drive/1001 Project/{folder_name}/{data_name}_test.csv', index=False)"
   ]
  },
  {
   "cell_type": "code",
   "execution_count": 19,
   "metadata": {
    "colab": {
     "base_uri": "https://localhost:8080/",
     "height": 35
    },
    "colab_type": "code",
    "executionInfo": {
     "elapsed": 3467,
     "status": "ok",
     "timestamp": 1575780062847,
     "user": {
      "displayName": "Man Jin",
      "photoUrl": "",
      "userId": "09109181000609836024"
     },
     "user_tz": 300
    },
    "id": "mM7vqh35zsjo",
    "outputId": "be68dbe7-e96a-4233-d63a-20666733a02d"
   },
   "outputs": [
    {
     "data": {
      "text/plain": [
       "StandardScaler(copy=True, with_mean=True, with_std=True)"
      ]
     },
     "execution_count": 19,
     "metadata": {
      "tags": []
     },
     "output_type": "execute_result"
    }
   ],
   "source": [
    "from sklearn.preprocessing import StandardScaler\n",
    "scaler = StandardScaler()\n",
    "scaler.fit(train[num_cols])"
   ]
  },
  {
   "cell_type": "code",
   "execution_count": 0,
   "metadata": {
    "colab": {},
    "colab_type": "code",
    "id": "OR8A_RkXAsiR"
   },
   "outputs": [],
   "source": [
    "train_scale = pd.DataFrame(scaler.transform(train[num_cols]), columns=num_cols)\n",
    "train_scale[bool_cols] = train[bool_cols]\n",
    "train_scale['id'] = train['id']\n",
    "train_scale = train_scale[['id']+num_cols+bool_cols]"
   ]
  },
  {
   "cell_type": "code",
   "execution_count": 0,
   "metadata": {
    "colab": {},
    "colab_type": "code",
    "id": "xz814m3_AsfZ"
   },
   "outputs": [],
   "source": [
    "val_scale = pd.DataFrame(scaler.transform(validate[num_cols]), columns=num_cols)\n",
    "val_scale[bool_cols] = validate[bool_cols]\n",
    "val_scale['id'] = validate['id']\n",
    "val_scale = val_scale[['id']+num_cols+bool_cols]"
   ]
  },
  {
   "cell_type": "code",
   "execution_count": 0,
   "metadata": {
    "colab": {},
    "colab_type": "code",
    "id": "Zk-9qoaiAvWp"
   },
   "outputs": [],
   "source": [
    "test_scale = pd.DataFrame(scaler.transform(test[num_cols]), columns=num_cols)\n",
    "test_scale[bool_cols] = test[bool_cols]\n",
    "test_scale['id'] = test['id']\n",
    "test_scale = test_scale[['id']+num_cols+bool_cols]"
   ]
  },
  {
   "cell_type": "code",
   "execution_count": 0,
   "metadata": {
    "colab": {},
    "colab_type": "code",
    "id": "iMqQkh_K0lgD"
   },
   "outputs": [],
   "source": [
    "train_scale.to_csv(f'drive/My Drive/1001 Project/{folder_name}/{data_name}_train_scale.csv', index=False)"
   ]
  },
  {
   "cell_type": "code",
   "execution_count": 0,
   "metadata": {
    "colab": {},
    "colab_type": "code",
    "id": "c7e9YzfiBKUy"
   },
   "outputs": [],
   "source": [
    "val_scale.to_csv(f'drive/My Drive/1001 Project/{folder_name}/{data_name}_val_scale.csv', index=False)"
   ]
  },
  {
   "cell_type": "code",
   "execution_count": 0,
   "metadata": {
    "colab": {},
    "colab_type": "code",
    "id": "w7OkVSfPBK5_"
   },
   "outputs": [],
   "source": [
    "test_scale.to_csv(f'drive/My Drive/1001 Project/{folder_name}/{data_name}_test_scale.csv', index=False)"
   ]
  },
  {
   "cell_type": "code",
   "execution_count": 26,
   "metadata": {
    "colab": {
     "base_uri": "https://localhost:8080/",
     "height": 70
    },
    "colab_type": "code",
    "executionInfo": {
     "elapsed": 5202,
     "status": "ok",
     "timestamp": 1575780064688,
     "user": {
      "displayName": "Man Jin",
      "photoUrl": "",
      "userId": "09109181000609836024"
     },
     "user_tz": 300
    },
    "id": "v2Y2fXjMKuMu",
    "outputId": "cbb42837-df32-4c61-e9a9-33b926adeff8"
   },
   "outputs": [
    {
     "data": {
      "text/plain": [
       "0    28739\n",
       "1     5171\n",
       "Name: default, dtype: int64"
      ]
     },
     "execution_count": 26,
     "metadata": {
      "tags": []
     },
     "output_type": "execute_result"
    }
   ],
   "source": [
    "train_scale['default'].value_counts()"
   ]
  },
  {
   "cell_type": "code",
   "execution_count": 0,
   "metadata": {
    "colab": {},
    "colab_type": "code",
    "id": "A-oZqKwCLH3e"
   },
   "outputs": [],
   "source": []
  }
 ],
 "metadata": {
  "colab": {
   "collapsed_sections": [],
   "name": "12.4 scale and split.ipynb",
   "provenance": []
  },
  "kernelspec": {
   "display_name": "Python 3",
   "language": "python",
   "name": "python3"
  },
  "language_info": {
   "codemirror_mode": {
    "name": "ipython",
    "version": 3
   },
   "file_extension": ".py",
   "mimetype": "text/x-python",
   "name": "python",
   "nbconvert_exporter": "python",
   "pygments_lexer": "ipython3",
   "version": "3.7.3"
  }
 },
 "nbformat": 4,
 "nbformat_minor": 1
}
