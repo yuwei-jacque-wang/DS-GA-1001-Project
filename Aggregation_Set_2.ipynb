{
 "cells": [
  {
   "cell_type": "markdown",
   "metadata": {},
   "source": [
    "# DS-GA 1001 Project\n",
    "## Training Set and Feature Engineering (Part 2)\n",
    "\n",
    "This script creates training sample for Project Part 2 (Please refer to readme for details)\n",
    "***"
   ]
  },
  {
   "cell_type": "markdown",
   "metadata": {},
   "source": [
    "## 1. Load Data"
   ]
  },
  {
   "cell_type": "code",
   "execution_count": 1,
   "metadata": {
    "colab": {},
    "colab_type": "code",
    "id": "4gCsHrjm_-gC"
   },
   "outputs": [],
   "source": [
    "import pandas as pd\n",
    "import numpy as np\n",
    "import matplotlib.pyplot as plt\n",
    "import statistics \n",
    "%matplotlib inline\n",
    "from sklearn.model_selection import train_test_split"
   ]
  },
  {
   "cell_type": "code",
   "execution_count": 2,
   "metadata": {
    "colab": {
     "base_uri": "https://localhost:8080/",
     "height": 220
    },
    "colab_type": "code",
    "executionInfo": {
     "elapsed": 2348,
     "status": "ok",
     "timestamp": 1574554795174,
     "user": {
      "displayName": "Man Jin",
      "photoUrl": "",
      "userId": "09109181000609836024"
     },
     "user_tz": 300
    },
    "id": "Jj2xwDER_-gS",
    "outputId": "af181278-58a4-451b-eac8-e4935c5d3d74"
   },
   "outputs": [
    {
     "data": {
      "text/html": [
       "<div>\n",
       "<style scoped>\n",
       "    .dataframe tbody tr th:only-of-type {\n",
       "        vertical-align: middle;\n",
       "    }\n",
       "\n",
       "    .dataframe tbody tr th {\n",
       "        vertical-align: top;\n",
       "    }\n",
       "\n",
       "    .dataframe thead th {\n",
       "        text-align: right;\n",
       "    }\n",
       "</style>\n",
       "<table border=\"1\" class=\"dataframe\">\n",
       "  <thead>\n",
       "    <tr style=\"text-align: right;\">\n",
       "      <th></th>\n",
       "      <th>id</th>\n",
       "      <th>time</th>\n",
       "      <th>orig_time</th>\n",
       "      <th>first_time</th>\n",
       "      <th>mat_time</th>\n",
       "      <th>balance_time</th>\n",
       "      <th>LTV_time</th>\n",
       "      <th>interest_rate_time</th>\n",
       "      <th>hpi_time</th>\n",
       "      <th>gdp_time</th>\n",
       "      <th>...</th>\n",
       "      <th>REtype_SF_orig_time</th>\n",
       "      <th>investor_orig_time</th>\n",
       "      <th>balance_orig_time</th>\n",
       "      <th>FICO_orig_time</th>\n",
       "      <th>LTV_orig_time</th>\n",
       "      <th>Interest_Rate_orig_time</th>\n",
       "      <th>hpi_orig_time</th>\n",
       "      <th>default_time</th>\n",
       "      <th>payoff_time</th>\n",
       "      <th>status_time</th>\n",
       "    </tr>\n",
       "  </thead>\n",
       "  <tbody>\n",
       "    <tr>\n",
       "      <th>0</th>\n",
       "      <td>1</td>\n",
       "      <td>25</td>\n",
       "      <td>-7</td>\n",
       "      <td>25</td>\n",
       "      <td>113</td>\n",
       "      <td>41303.42</td>\n",
       "      <td>24.498336</td>\n",
       "      <td>9.2</td>\n",
       "      <td>226.29</td>\n",
       "      <td>2.899137</td>\n",
       "      <td>...</td>\n",
       "      <td>1</td>\n",
       "      <td>0</td>\n",
       "      <td>45000.0</td>\n",
       "      <td>715</td>\n",
       "      <td>69.4</td>\n",
       "      <td>9.2</td>\n",
       "      <td>87.03</td>\n",
       "      <td>0</td>\n",
       "      <td>0</td>\n",
       "      <td>0</td>\n",
       "    </tr>\n",
       "    <tr>\n",
       "      <th>1</th>\n",
       "      <td>1</td>\n",
       "      <td>26</td>\n",
       "      <td>-7</td>\n",
       "      <td>25</td>\n",
       "      <td>113</td>\n",
       "      <td>41061.95</td>\n",
       "      <td>24.483867</td>\n",
       "      <td>9.2</td>\n",
       "      <td>225.10</td>\n",
       "      <td>2.151365</td>\n",
       "      <td>...</td>\n",
       "      <td>1</td>\n",
       "      <td>0</td>\n",
       "      <td>45000.0</td>\n",
       "      <td>715</td>\n",
       "      <td>69.4</td>\n",
       "      <td>9.2</td>\n",
       "      <td>87.03</td>\n",
       "      <td>0</td>\n",
       "      <td>0</td>\n",
       "      <td>0</td>\n",
       "    </tr>\n",
       "    <tr>\n",
       "      <th>2</th>\n",
       "      <td>1</td>\n",
       "      <td>27</td>\n",
       "      <td>-7</td>\n",
       "      <td>25</td>\n",
       "      <td>113</td>\n",
       "      <td>40804.42</td>\n",
       "      <td>24.626795</td>\n",
       "      <td>9.2</td>\n",
       "      <td>222.39</td>\n",
       "      <td>2.361722</td>\n",
       "      <td>...</td>\n",
       "      <td>1</td>\n",
       "      <td>0</td>\n",
       "      <td>45000.0</td>\n",
       "      <td>715</td>\n",
       "      <td>69.4</td>\n",
       "      <td>9.2</td>\n",
       "      <td>87.03</td>\n",
       "      <td>0</td>\n",
       "      <td>0</td>\n",
       "      <td>0</td>\n",
       "    </tr>\n",
       "    <tr>\n",
       "      <th>3</th>\n",
       "      <td>1</td>\n",
       "      <td>28</td>\n",
       "      <td>-7</td>\n",
       "      <td>25</td>\n",
       "      <td>113</td>\n",
       "      <td>40483.89</td>\n",
       "      <td>24.735883</td>\n",
       "      <td>9.2</td>\n",
       "      <td>219.67</td>\n",
       "      <td>1.229172</td>\n",
       "      <td>...</td>\n",
       "      <td>1</td>\n",
       "      <td>0</td>\n",
       "      <td>45000.0</td>\n",
       "      <td>715</td>\n",
       "      <td>69.4</td>\n",
       "      <td>9.2</td>\n",
       "      <td>87.03</td>\n",
       "      <td>0</td>\n",
       "      <td>0</td>\n",
       "      <td>0</td>\n",
       "    </tr>\n",
       "    <tr>\n",
       "      <th>4</th>\n",
       "      <td>1</td>\n",
       "      <td>29</td>\n",
       "      <td>-7</td>\n",
       "      <td>25</td>\n",
       "      <td>113</td>\n",
       "      <td>40367.06</td>\n",
       "      <td>24.925476</td>\n",
       "      <td>9.2</td>\n",
       "      <td>217.37</td>\n",
       "      <td>1.692969</td>\n",
       "      <td>...</td>\n",
       "      <td>1</td>\n",
       "      <td>0</td>\n",
       "      <td>45000.0</td>\n",
       "      <td>715</td>\n",
       "      <td>69.4</td>\n",
       "      <td>9.2</td>\n",
       "      <td>87.03</td>\n",
       "      <td>0</td>\n",
       "      <td>0</td>\n",
       "      <td>0</td>\n",
       "    </tr>\n",
       "  </tbody>\n",
       "</table>\n",
       "<p>5 rows × 23 columns</p>\n",
       "</div>"
      ],
      "text/plain": [
       "   id  time  orig_time  first_time  mat_time  balance_time   LTV_time  \\\n",
       "0   1    25         -7          25       113      41303.42  24.498336   \n",
       "1   1    26         -7          25       113      41061.95  24.483867   \n",
       "2   1    27         -7          25       113      40804.42  24.626795   \n",
       "3   1    28         -7          25       113      40483.89  24.735883   \n",
       "4   1    29         -7          25       113      40367.06  24.925476   \n",
       "\n",
       "   interest_rate_time  hpi_time  gdp_time  ...  REtype_SF_orig_time  \\\n",
       "0                 9.2    226.29  2.899137  ...                    1   \n",
       "1                 9.2    225.10  2.151365  ...                    1   \n",
       "2                 9.2    222.39  2.361722  ...                    1   \n",
       "3                 9.2    219.67  1.229172  ...                    1   \n",
       "4                 9.2    217.37  1.692969  ...                    1   \n",
       "\n",
       "   investor_orig_time  balance_orig_time  FICO_orig_time  LTV_orig_time  \\\n",
       "0                   0            45000.0             715           69.4   \n",
       "1                   0            45000.0             715           69.4   \n",
       "2                   0            45000.0             715           69.4   \n",
       "3                   0            45000.0             715           69.4   \n",
       "4                   0            45000.0             715           69.4   \n",
       "\n",
       "   Interest_Rate_orig_time  hpi_orig_time  default_time  payoff_time  \\\n",
       "0                      9.2          87.03             0            0   \n",
       "1                      9.2          87.03             0            0   \n",
       "2                      9.2          87.03             0            0   \n",
       "3                      9.2          87.03             0            0   \n",
       "4                      9.2          87.03             0            0   \n",
       "\n",
       "   status_time  \n",
       "0            0  \n",
       "1            0  \n",
       "2            0  \n",
       "3            0  \n",
       "4            0  \n",
       "\n",
       "[5 rows x 23 columns]"
      ]
     },
     "execution_count": 2,
     "metadata": {},
     "output_type": "execute_result"
    }
   ],
   "source": [
    "Data = pd.read_csv(\"mortgage.csv\")\n",
    "Data.head()"
   ]
  },
  {
   "cell_type": "markdown",
   "metadata": {},
   "source": [
    "### Remove Duplicate"
   ]
  },
  {
   "cell_type": "code",
   "execution_count": 15,
   "metadata": {},
   "outputs": [],
   "source": [
    "Data.drop_duplicates(keep = False, inplace = True)"
   ]
  },
  {
   "cell_type": "markdown",
   "metadata": {},
   "source": [
    "## 2. Fill NA Values"
   ]
  },
  {
   "cell_type": "markdown",
   "metadata": {},
   "source": [
    "There are two variables containing missing values: LTV_time and Interest_Rate_Orig_Time. <br>\n",
    "Since both variables are highly correlated with other variables, we fill in NA from an estimation of polynomial regression from other existing variables, with \"LinearRegression\" in sklearn package. We will not adopt all variables in feature engineering in later steps, so our filling NA method won't cause multicolinearity issue in the main model training. "
   ]
  },
  {
   "cell_type": "markdown",
   "metadata": {
    "colab_type": "text",
    "id": "yrk0cou3R7C7"
   },
   "source": [
    "### 2.1 Fill NA for LTV_time"
   ]
  },
  {
   "cell_type": "code",
   "execution_count": 5,
   "metadata": {
    "colab": {
     "base_uri": "https://localhost:8080/",
     "height": 106
    },
    "colab_type": "code",
    "executionInfo": {
     "elapsed": 3532,
     "status": "ok",
     "timestamp": 1574554796381,
     "user": {
      "displayName": "Man Jin",
      "photoUrl": "",
      "userId": "09109181000609836024"
     },
     "user_tz": 300
    },
    "id": "OyhRrJbKR541",
    "outputId": "54499a41-40db-4cf4-a0c5-e2de886a63fc"
   },
   "outputs": [
    {
     "name": "stderr",
     "output_type": "stream",
     "text": [
      "/Users/yuweiwang/anaconda3/lib/python3.7/site-packages/ipykernel_launcher.py:1: SettingWithCopyWarning: \n",
      "A value is trying to be set on a copy of a slice from a DataFrame\n",
      "\n",
      "See the caveats in the documentation: http://pandas.pydata.org/pandas-docs/stable/indexing.html#indexing-view-versus-copy\n",
      "  \"\"\"Entry point for launching an IPython kernel.\n"
     ]
    }
   ],
   "source": [
    "Data['LTV_time'][Data['LTV_time']==0] = None\n",
    "\n",
    "ltv_sample = Data[~Data['LTV_time'].isnull()]\n",
    "corr = ltv_sample.corr()\n",
    "features = ltv_sample.columns[abs(corr.loc['LTV_time',:]) > 0.3]\n",
    "ltv_sample = ltv_sample[features]\n",
    "ltv_result_x = Data[features][Data['LTV_time'].isnull()].drop(['LTV_time'], axis = 1)\n"
   ]
  },
  {
   "cell_type": "code",
   "execution_count": 6,
   "metadata": {
    "colab": {},
    "colab_type": "code",
    "id": "ZbvZZrIueoGq"
   },
   "outputs": [],
   "source": [
    "train, test = train_test_split(ltv_sample, test_size=0.2)\n",
    "X_train, X_test = train.drop(['LTV_time'], axis = 1), test.drop(['LTV_time'], axis = 1)\n",
    "y_train, y_test = train['LTV_time'], test['LTV_time']"
   ]
  },
  {
   "cell_type": "code",
   "execution_count": 7,
   "metadata": {
    "colab": {},
    "colab_type": "code",
    "id": "beAelKmxfE3K"
   },
   "outputs": [],
   "source": [
    "from sklearn.preprocessing import PolynomialFeatures\n",
    "from sklearn.linear_model import LinearRegression\n",
    "from sklearn.pipeline import make_pipeline\n",
    "\n",
    "# score = {}\n",
    "# for degree in [1,2,3]:\n",
    "#     model = make_pipeline(PolynomialFeatures(degree), LinearRegression())\n",
    "#     model.fit(X_train,y_train)\n",
    "#     score[degree] = model.score(X_test, y_test)\n",
    "# display(score)"
   ]
  },
  {
   "cell_type": "code",
   "execution_count": 8,
   "metadata": {
    "colab": {
     "base_uri": "https://localhost:8080/",
     "height": 52
    },
    "colab_type": "code",
    "executionInfo": {
     "elapsed": 22763,
     "status": "ok",
     "timestamp": 1574554815681,
     "user": {
      "displayName": "Man Jin",
      "photoUrl": "",
      "userId": "09109181000609836024"
     },
     "user_tz": 300
    },
    "id": "6Asab-uPfaMA",
    "outputId": "8f9b9fec-acb0-4a05-ea44-112f3f80078f"
   },
   "outputs": [
    {
     "name": "stdout",
     "output_type": "stream",
     "text": [
      "Mean squared error: 66.25\n",
      "Variance score: 0.89\n"
     ]
    }
   ],
   "source": [
    "from sklearn.metrics import mean_squared_error, r2_score\n",
    "model = make_pipeline(PolynomialFeatures(3), LinearRegression())\n",
    "model.fit(X_train,y_train)\n",
    "# Make predictions using the testing set\n",
    "y_pred = model.predict(X_test)\n",
    "\n",
    "# The mean squared error\n",
    "print(\"Mean squared error: %.2f\" % mean_squared_error(y_test, y_pred))\n",
    "# Explained variance score: 1 is perfect prediction\n",
    "print('Variance score: %.2f' % r2_score(y_test, y_pred))"
   ]
  },
  {
   "cell_type": "code",
   "execution_count": 9,
   "metadata": {
    "colab": {},
    "colab_type": "code",
    "id": "mUkfspGTfaIS"
   },
   "outputs": [],
   "source": [
    "ltv_result_y = model.predict(ltv_result_x)\n",
    "Data.loc[Data['LTV_time'].isnull(), 'LTV_time'] = ltv_result_y"
   ]
  },
  {
   "cell_type": "markdown",
   "metadata": {
    "colab_type": "text",
    "id": "KW9opnWfgVhy"
   },
   "source": [
    "### 2.2 Fill NA for Interest_Rate_orig_time"
   ]
  },
  {
   "cell_type": "code",
   "execution_count": 11,
   "metadata": {
    "colab": {
     "base_uri": "https://localhost:8080/",
     "height": 106
    },
    "colab_type": "code",
    "executionInfo": {
     "elapsed": 22343,
     "status": "ok",
     "timestamp": 1574554815686,
     "user": {
      "displayName": "Man Jin",
      "photoUrl": "",
      "userId": "09109181000609836024"
     },
     "user_tz": 300
    },
    "id": "mTEezawugUvf",
    "outputId": "49b1d85f-f7fc-4870-b009-d21d153d3692"
   },
   "outputs": [
    {
     "name": "stderr",
     "output_type": "stream",
     "text": [
      "/Users/yuweiwang/anaconda3/lib/python3.7/site-packages/ipykernel_launcher.py:1: SettingWithCopyWarning: \n",
      "A value is trying to be set on a copy of a slice from a DataFrame\n",
      "\n",
      "See the caveats in the documentation: http://pandas.pydata.org/pandas-docs/stable/indexing.html#indexing-view-versus-copy\n",
      "  \"\"\"Entry point for launching an IPython kernel.\n"
     ]
    }
   ],
   "source": [
    "Data['Interest_Rate_orig_time'][Data['Interest_Rate_orig_time']==0] = None"
   ]
  },
  {
   "cell_type": "code",
   "execution_count": 13,
   "metadata": {
    "colab": {},
    "colab_type": "code",
    "id": "4TfSE3VXudjb"
   },
   "outputs": [],
   "source": [
    "temp = Data['id'][Data['Interest_Rate_orig_time'].isnull()].value_counts()\n",
    "fill_val = {}\n",
    "for i in temp.index:\n",
    "  fill_val[Data[Data['id']==i].index[0]] = Data[Data['id'] == i]['interest_rate_time'].iloc[0]"
   ]
  },
  {
   "cell_type": "code",
   "execution_count": 14,
   "metadata": {
    "colab": {},
    "colab_type": "code",
    "id": "UzsuNSMyusXI"
   },
   "outputs": [],
   "source": [
    "Data['Interest_Rate_orig_time'] = Data['Interest_Rate_orig_time'].fillna(fill_val)\n",
    "Data.fillna(method = 'ffill', inplace=True)"
   ]
  },
  {
   "cell_type": "markdown",
   "metadata": {
    "colab_type": "text",
    "id": "sXyBPpey_-gy"
   },
   "source": [
    "## 3. Feature Engineering Functions (for time-series features)"
   ]
  },
  {
   "cell_type": "markdown",
   "metadata": {
    "colab_type": "text",
    "id": "m2Ne-i4C_-hC"
   },
   "source": [
    "### 3.1 Get monthly payment history for certain borrower AT A GIVEN TIME (earlest period until given time)"
   ]
  },
  {
   "cell_type": "markdown",
   "metadata": {},
   "source": [
    "Function: **MonthlyPaymentTime(ID, timeGiven)**\n",
    "- Input: ID, timeGiven (timeGiven is the casting time point)\n",
    "- Return: a list containing monthly payment for all available months\n",
    "- Method: detect starting and ending (first and last) available observation time, calculate difference between two remaining balances and store into list. "
   ]
  },
  {
   "cell_type": "code",
   "execution_count": 23,
   "metadata": {
    "colab": {},
    "colab_type": "code",
    "id": "mDK0y5jl_-hD"
   },
   "outputs": [],
   "source": [
    "def MonthlyPaymentTime(ID, timeGiven):\n",
    "    Payment = []\n",
    "    \n",
    "    timeStart = Data.groupby(['id'])['time'].min()\n",
    "    timeStart = timeStart.to_frame()\n",
    "    \n",
    "    for time in range(timeStart.loc[ID].values[0], timeGiven):\n",
    "        condition1 = (time+1 <= timeGiven)\n",
    "        condition2 = (time in set(Data[Data['id']==ID]['time']))\n",
    "        condition3 = (time+1 in set(Data[Data['id']==ID]['time']))\n",
    "        \n",
    "        if condition1 and condition2 and condition3:\n",
    "            Balance1 = Data[Data['id']==ID][Data['time']==time]['balance_time'].values[0]\n",
    "            Balance2 = Data[Data['id']==ID][Data['time']==(time+1)]['balance_time'].values[0]\n",
    "            monthlyPay = Balance1 - Balance2\n",
    "            Payment = Payment + [monthlyPay]\n",
    "        else:\n",
    "            continue\n",
    "    return Payment"
   ]
  },
  {
   "cell_type": "code",
   "execution_count": 24,
   "metadata": {
    "colab": {},
    "colab_type": "code",
    "id": "XOkUnrsZ_-hG",
    "outputId": "615db1eb-8a11-4bab-df9a-92dc3be1ec12"
   },
   "outputs": [
    {
     "name": "stderr",
     "output_type": "stream",
     "text": [
      "/Users/yuweiwang/anaconda3/lib/python3.7/site-packages/ipykernel_launcher.py:13: UserWarning: Boolean Series key will be reindexed to match DataFrame index.\n",
      "  del sys.path[0]\n",
      "/Users/yuweiwang/anaconda3/lib/python3.7/site-packages/ipykernel_launcher.py:14: UserWarning: Boolean Series key will be reindexed to match DataFrame index.\n",
      "  \n"
     ]
    },
    {
     "data": {
      "text/plain": [
       "[148.6800000000003,\n",
       " 152.61999999999534,\n",
       " 153.6600000000035,\n",
       " 151.75,\n",
       " 155.90999999999622,\n",
       " 160.20000000000437,\n",
       " 163.5699999999997,\n",
       " 166.02999999999884,\n",
       " 174.91999999999825,\n",
       " 188.29000000000087]"
      ]
     },
     "execution_count": 24,
     "metadata": {},
     "output_type": "execute_result"
    }
   ],
   "source": [
    "MonthlyPaymentTime(4,35)"
   ]
  },
  {
   "cell_type": "markdown",
   "metadata": {
    "colab_type": "text",
    "id": "RyvLcdSl_-hK"
   },
   "source": [
    "### 3.2 Mean, Std, Min, Max for total payment history or UP TO GIVEN TIME"
   ]
  },
  {
   "cell_type": "markdown",
   "metadata": {},
   "source": [
    "A combined function for all features above: **CombinedMonthlyPaymentTime(ID, time)**\n",
    "- Input: Borrower ID, time at casting point\n",
    "- Return: A list of following values:\n",
    "    - avg: average payment per month\n",
    "    - maxi: maximum payment\n",
    "    - mini: minimum payment\n",
    "    - std: standard deviation of peyment\n",
    "    - record0: number of 0 amount payment throughout history\n",
    "    - recordLow: number of payments lower than mean - 1*std in history\n",
    "- Method: \n",
    "    - Call MonthlyPaymentTime to get a series for history\n",
    "    - Calculate avg, maxi, mini, std from built-in functions\n",
    "    - record0 and recordLow are counted from for loop"
   ]
  },
  {
   "cell_type": "code",
   "execution_count": 26,
   "metadata": {},
   "outputs": [],
   "source": [
    "# This is a combined function, to improve efficiency\n",
    "\n",
    "def CombinedMonthlyPaymentTime(ID, time):\n",
    "    sr = MonthlyPaymentTime(ID, time)\n",
    "    \n",
    "    if len(sr)>=1:\n",
    "        avg = statistics.mean(sr)\n",
    "        maxi = max(sr)\n",
    "        mini = min(sr)\n",
    "        if len(sr)>=2:\n",
    "            std = statistics.stdev(sr)\n",
    "        else:\n",
    "            std = 0\n",
    "    else:\n",
    "        avg = 0\n",
    "        maxi = 0\n",
    "        mini = 0\n",
    "        std = 0\n",
    "    \n",
    "    record0 = 0\n",
    "    recordLow = 0\n",
    "    for i in range(len(sr)):\n",
    "        if sr[i] <= 0:\n",
    "            record0 += 1\n",
    "        if sr[i] <= avg-std:\n",
    "            recordLow += 1\n",
    "    \n",
    "    return (avg, std, maxi, mini, record0, recordLow)"
   ]
  },
  {
   "cell_type": "markdown",
   "metadata": {
    "colab_type": "text",
    "id": "yxbJjWVx_-hy"
   },
   "source": [
    "## 4. Create Training Set (by borrower * time)"
   ]
  },
  {
   "cell_type": "markdown",
   "metadata": {
    "colab_type": "text",
    "id": "isbtOLRg_-h0"
   },
   "source": [
    "**List of features**\n",
    "(Bold terms are those different from Part1)\n",
    "- mat_time: maturity time for loan (as original)\n",
    "- balance_orig: initial balance, from balance_orig_time\n",
    "- **balance_time: remaining balance at observing period (casting point)**\n",
    "- **LTV_time: last LTV_time at casting point**\n",
    "- LTV_orig: same as LTV_orig_time\n",
    "- **interest_time: last interest_rate_time at casting point**\n",
    "- interest_orig: same as Interest_Rate_orig_time\n",
    "- **hpi_time: last hpi_time at casting point**\n",
    "- hpi_orig: same as hpi_orig_time\n",
    "- **gdp_time: last gdp_time at casting point**\n",
    "- **uer_time: last uer_time at casting point**\n",
    "- REtype_CO, REtype_PU, REtype_SF: as original\n",
    "- investor, FICO: same as _orig_time\n",
    "\n",
    "**Created features**\n",
    "- **payment_hist: total length of history up to casting point, time - orig_time**\n",
    "- avg_payment: average amount of payment every month (up to casting point)\n",
    "- std_payment: std of payment every month (up to casting point)\n",
    "- max_payment: max of payment every month (up to casting point)\n",
    "- min_payment: min of payment every month (up to casting point)\n",
    "- count_zero_payment: number of 0 payments (up to casting point)\n",
    "- count_low_payment: number of payments < mean - 1*std (up to casting point)"
   ]
  },
  {
   "cell_type": "markdown",
   "metadata": {},
   "source": [
    "### 4.1 Casting Sample Function"
   ]
  },
  {
   "cell_type": "markdown",
   "metadata": {},
   "source": [
    "**This is a try-out case to explain the logic for CastSample function**\n",
    "1. Get all default result from casting time (24) up to time = 26 (windowLength=2)\n",
    "2. transfer all default result to pivot table\n",
    "3. sum columns of pivot table, to get default result UP TO time=26 (instead of exactly at time 26)\n",
    "4. Join result with casting period features"
   ]
  },
  {
   "cell_type": "code",
   "execution_count": 27,
   "metadata": {},
   "outputs": [
    {
     "data": {
      "text/html": [
       "<div>\n",
       "<style scoped>\n",
       "    .dataframe tbody tr th:only-of-type {\n",
       "        vertical-align: middle;\n",
       "    }\n",
       "\n",
       "    .dataframe tbody tr th {\n",
       "        vertical-align: top;\n",
       "    }\n",
       "\n",
       "    .dataframe thead th {\n",
       "        text-align: right;\n",
       "    }\n",
       "</style>\n",
       "<table border=\"1\" class=\"dataframe\">\n",
       "  <thead>\n",
       "    <tr style=\"text-align: right;\">\n",
       "      <th></th>\n",
       "      <th>id</th>\n",
       "      <th>time</th>\n",
       "      <th>default</th>\n",
       "    </tr>\n",
       "  </thead>\n",
       "  <tbody>\n",
       "    <tr>\n",
       "      <th>2222</th>\n",
       "      <td>209</td>\n",
       "      <td>24</td>\n",
       "      <td>0</td>\n",
       "    </tr>\n",
       "    <tr>\n",
       "      <th>2225</th>\n",
       "      <td>210</td>\n",
       "      <td>24</td>\n",
       "      <td>0</td>\n",
       "    </tr>\n",
       "    <tr>\n",
       "      <th>2255</th>\n",
       "      <td>211</td>\n",
       "      <td>24</td>\n",
       "      <td>0</td>\n",
       "    </tr>\n",
       "    <tr>\n",
       "      <th>2265</th>\n",
       "      <td>212</td>\n",
       "      <td>24</td>\n",
       "      <td>0</td>\n",
       "    </tr>\n",
       "    <tr>\n",
       "      <th>2273</th>\n",
       "      <td>213</td>\n",
       "      <td>24</td>\n",
       "      <td>0</td>\n",
       "    </tr>\n",
       "  </tbody>\n",
       "</table>\n",
       "</div>"
      ],
      "text/plain": [
       "       id  time  default\n",
       "2222  209    24        0\n",
       "2225  210    24        0\n",
       "2255  211    24        0\n",
       "2265  212    24        0\n",
       "2273  213    24        0"
      ]
     },
     "execution_count": 27,
     "metadata": {},
     "output_type": "execute_result"
    }
   ],
   "source": [
    "filterData = Data[(Data['time']>=25) & (Data['time']<=26)][['id','time','default_time']]\n",
    "\n",
    "table_default = pd.pivot_table(filterData, values='default_time', \n",
    "                       index=['id'],columns=['time'], fill_value=0)\n",
    "\n",
    "resultY = table_default[table_default.columns].sum(axis=1)\n",
    "resultY = pd.DataFrame(resultY, columns = ['default'])\n",
    "Xtry = Data[Data['time'] == 24][['id','time']]\n",
    "final = Xtry.join(resultY, on = 'id', how='inner')\n",
    "final.head()"
   ]
  },
  {
   "cell_type": "markdown",
   "metadata": {},
   "source": [
    "Main Function **CastSample(castTime, windowLength, featureList):**\n",
    "- Input: \n",
    "    - castTime: casting time period for observation. All features are taken up to this point\n",
    "    - windowLength: number of periods for prediction, the outcome on castTime+windowLength will be target label\n",
    "    - featureList: list of features to extract\n",
    "- Return: \n",
    "    - A dataframe that contains features up to castTime, and outcome within windowLength (from castTime to castTime + windowLength)\n",
    "- Method: \n",
    "    - See try out case above"
   ]
  },
  {
   "cell_type": "code",
   "execution_count": 29,
   "metadata": {},
   "outputs": [],
   "source": [
    "# Input: casting time period, windowLength for prediction, feature list\n",
    "\n",
    "def CastSample(castTime, windowLength, featureList):\n",
    "    X = Data[Data['time'] == castTime][['id']+featureList]\n",
    "    \n",
    "    windowData = Data[(Data['time']>castTime) & (Data['time']<=castTime+windowLength)]\n",
    "    filterData = windowData[['id','time','default_time','payoff_time','status_time']]\n",
    "    \n",
    "    default = pd.pivot_table(filterData, values='default_time', index=['id'],columns=['time'], fill_value=0)\n",
    "    payoff = pd.pivot_table(filterData, values='payoff_time', index=['id'],columns=['time'], fill_value=0)\n",
    "    status = pd.pivot_table(filterData, values='status_time', index=['id'],columns=['time'], fill_value=0)\n",
    "    \n",
    "    defaultResult = default[default.columns].sum(axis=1)\n",
    "    payoffResult = payoff[payoff.columns].sum(axis=1)\n",
    "    statusResult = status[status.columns].sum(axis=1)\n",
    "    defaultResult = pd.DataFrame(defaultResult, columns = ['default'])\n",
    "    payoffResult = pd.DataFrame(payoffResult, columns = ['payoff'])\n",
    "    statusResult = pd.DataFrame(statusResult, columns = ['status'])\n",
    "    \n",
    "    Sample = X.join(defaultResult, on='id', how='inner').join(payoffResult,on='id').join(statusResult,on ='id')\n",
    "    \n",
    "    return Sample"
   ]
  },
  {
   "cell_type": "code",
   "execution_count": 30,
   "metadata": {},
   "outputs": [
    {
     "data": {
      "text/html": [
       "<div>\n",
       "<style scoped>\n",
       "    .dataframe tbody tr th:only-of-type {\n",
       "        vertical-align: middle;\n",
       "    }\n",
       "\n",
       "    .dataframe tbody tr th {\n",
       "        vertical-align: top;\n",
       "    }\n",
       "\n",
       "    .dataframe thead th {\n",
       "        text-align: right;\n",
       "    }\n",
       "</style>\n",
       "<table border=\"1\" class=\"dataframe\">\n",
       "  <thead>\n",
       "    <tr style=\"text-align: right;\">\n",
       "      <th></th>\n",
       "      <th>id</th>\n",
       "      <th>time</th>\n",
       "      <th>balance_time</th>\n",
       "      <th>default</th>\n",
       "      <th>payoff</th>\n",
       "      <th>status</th>\n",
       "    </tr>\n",
       "  </thead>\n",
       "  <tbody>\n",
       "    <tr>\n",
       "      <th>2222</th>\n",
       "      <td>209</td>\n",
       "      <td>24</td>\n",
       "      <td>305400.0</td>\n",
       "      <td>0</td>\n",
       "      <td>1</td>\n",
       "      <td>2</td>\n",
       "    </tr>\n",
       "    <tr>\n",
       "      <th>2225</th>\n",
       "      <td>210</td>\n",
       "      <td>24</td>\n",
       "      <td>139200.0</td>\n",
       "      <td>0</td>\n",
       "      <td>0</td>\n",
       "      <td>0</td>\n",
       "    </tr>\n",
       "    <tr>\n",
       "      <th>2255</th>\n",
       "      <td>211</td>\n",
       "      <td>24</td>\n",
       "      <td>161500.0</td>\n",
       "      <td>0</td>\n",
       "      <td>0</td>\n",
       "      <td>0</td>\n",
       "    </tr>\n",
       "    <tr>\n",
       "      <th>2265</th>\n",
       "      <td>212</td>\n",
       "      <td>24</td>\n",
       "      <td>220000.0</td>\n",
       "      <td>0</td>\n",
       "      <td>0</td>\n",
       "      <td>0</td>\n",
       "    </tr>\n",
       "    <tr>\n",
       "      <th>2273</th>\n",
       "      <td>213</td>\n",
       "      <td>24</td>\n",
       "      <td>89388.0</td>\n",
       "      <td>0</td>\n",
       "      <td>0</td>\n",
       "      <td>0</td>\n",
       "    </tr>\n",
       "  </tbody>\n",
       "</table>\n",
       "</div>"
      ],
      "text/plain": [
       "       id  time  balance_time  default  payoff  status\n",
       "2222  209    24      305400.0        0       1       2\n",
       "2225  210    24      139200.0        0       0       0\n",
       "2255  211    24      161500.0        0       0       0\n",
       "2265  212    24      220000.0        0       0       0\n",
       "2273  213    24       89388.0        0       0       0"
      ]
     },
     "execution_count": 30,
     "metadata": {},
     "output_type": "execute_result"
    }
   ],
   "source": [
    "#A try out\n",
    "featureListTry = ['time','balance_time']\n",
    "CastSample(24,2,featureListTry).head()"
   ]
  },
  {
   "cell_type": "markdown",
   "metadata": {},
   "source": [
    "### 4.2 Create DataSet with Non-Time-Series Features"
   ]
  },
  {
   "cell_type": "markdown",
   "metadata": {},
   "source": [
    "Because different window length will by nature generate different base rate for default (target), we create different sizes of samples for different window lengths. In later steps (scale_split.ipynb) we will do up sampling for each window length, in order to keep a relatively consistent base rate. More detailed explanations can be seen in report.\n",
    "\n",
    "Casting time period: \n",
    "- Window Length 1: (3, 8, 13, 18, 23, 28, 33, 38, 43, 48, 53, 58)\n",
    "- Window Length 3: (3, 13, 18, 28, 33, 43, 48)\n",
    "- Window Length 6: (3, 13, 18, 33, 43, 48)\n",
    "- Window Length 12: (3, 18, 33, 48)"
   ]
  },
  {
   "cell_type": "code",
   "execution_count": 31,
   "metadata": {},
   "outputs": [],
   "source": [
    "NonTimefeature = ['mat_time', 'balance_orig_time', 'balance_time','LTV_orig_time', \n",
    "       'LTV_time', 'interest_rate_time', 'Interest_Rate_orig_time', 'hpi_time', 'hpi_orig_time', \n",
    "       'gdp_time', 'uer_time',\n",
    "       'REtype_CO_orig_time', 'REtype_PU_orig_time', 'REtype_SF_orig_time',\n",
    "       'investor_orig_time', 'FICO_orig_time'] + ['time','orig_time'] \n",
    "#time & orig_time column helps for later feature engineering, eventually we'll drop it\n",
    "\n",
    "Time3Win1 = CastSample(3, 1, NonTimefeature)\n",
    "Time3Win3 = CastSample(3, 3, NonTimefeature)\n",
    "Time3Win6 = CastSample(3, 6, NonTimefeature)\n",
    "Time3Win12 = CastSample(3, 12, NonTimefeature)\n",
    "\n",
    "Time18Win1 = CastSample(18, 1, NonTimefeature)\n",
    "Time18Win3 = CastSample(18, 3, NonTimefeature)\n",
    "Time18Win6 = CastSample(18, 6, NonTimefeature)\n",
    "Time18Win12 = CastSample(18, 12, NonTimefeature)\n",
    "\n",
    "Time33Win1 = CastSample(33, 1, NonTimefeature)\n",
    "Time33Win3 = CastSample(33, 3, NonTimefeature)\n",
    "Time33Win6 = CastSample(33, 6, NonTimefeature)\n",
    "Time33Win12 = CastSample(33, 12, NonTimefeature)\n",
    "\n",
    "Time48Win1 = CastSample(48, 1, NonTimefeature)\n",
    "Time48Win3 = CastSample(48, 3, NonTimefeature)\n",
    "Time48Win6 = CastSample(48, 6, NonTimefeature)\n",
    "Time48Win12 = CastSample(48, 12, NonTimefeature)\n",
    "\n",
    "Time8Win1 = CastSample(8, 1, NonTimefeature)\n",
    "Time13Win1 = CastSample(13, 1, NonTimefeature)\n",
    "Time23Win1 = CastSample(23, 1, NonTimefeature)\n",
    "Time28Win1 = CastSample(28, 1, NonTimefeature)\n",
    "Time38Win1 = CastSample(38, 1, NonTimefeature)\n",
    "Time43Win1 = CastSample(43, 1, NonTimefeature)\n",
    "Time53Win1 = CastSample(53, 1, NonTimefeature)\n",
    "Time58Win1 = CastSample(58, 1, NonTimefeature)\n",
    "\n",
    "Time13Win3 = CastSample(13, 3, NonTimefeature)\n",
    "Time28Win3 = CastSample(28, 3, NonTimefeature)\n",
    "Time43Win3 = CastSample(43, 3, NonTimefeature)\n",
    "\n",
    "Time13Win6 = CastSample(13, 6, NonTimefeature)\n",
    "Time43Win6 = CastSample(43, 6, NonTimefeature)"
   ]
  },
  {
   "cell_type": "markdown",
   "metadata": {
    "colab": {},
    "colab_type": "code",
    "id": "ve8DxCau_-h4"
   },
   "source": [
    "### 4.3 Fill in Time-Series Features"
   ]
  },
  {
   "cell_type": "code",
   "execution_count": 130,
   "metadata": {},
   "outputs": [],
   "source": [
    "# Payment History Length\n",
    "sampleList = [Time3Win1, Time3Win3, Time3Win6, Time3Win12,\n",
    "              Time18Win1, Time18Win3, Time18Win6, Time18Win12,\n",
    "              Time33Win1, Time33Win3, Time33Win6, Time33Win12,\n",
    "              Time48Win1, Time48Win3, Time48Win6, Time48Win12,\n",
    "              Time8Win1, Time13Win1, Time23Win1, Time28Win1, \n",
    "              Time38Win1, Time43Win1, Time53Win1, Time58Win1, \n",
    "              Time13Win3, Time28Win3, Time43Win3, \n",
    "              Time13Win6, Time43Win6]\n",
    "\n",
    "for data in sampleList:\n",
    "    data['payment_hist'] = data['time'] - data['orig_time']"
   ]
  },
  {
   "cell_type": "code",
   "execution_count": 32,
   "metadata": {},
   "outputs": [],
   "source": [
    "# Everything else in the list\n",
    "\n",
    "def Fill_Time_Features(data, castTime):\n",
    "    avg_payment = []\n",
    "    std_payment = []\n",
    "    max_payment = []\n",
    "    min_payment = []\n",
    "    count_zero_payment = []\n",
    "    count_low_payment = []\n",
    "    IDcount = 0\n",
    "    \n",
    "    for ID in list(data['id']):\n",
    "        v1, v2, v3, v4, v5, v6 = CombinedMonthlyPaymentTime(ID, castTime)\n",
    "        avg_payment.append(v1)\n",
    "        std_payment.append(v2)\n",
    "        max_payment.append(v3)\n",
    "        min_payment.append(v4)\n",
    "        count_zero_payment.append(v5)\n",
    "        count_low_payment.append(v6)\n",
    "        IDcount +=1\n",
    "        \n",
    "        # The print line is only for helping track process\n",
    "        print(IDcount)\n",
    "        \n",
    "    data['avg_payment'] = avg_payment\n",
    "    data['std_payment'] = std_payment\n",
    "    data['max_payment'] = max_payment\n",
    "    data['min_payment'] = min_payment\n",
    "    data['count_zero_payment'] = count_zero_payment\n",
    "    data['count_low_payment'] = count_low_payment"
   ]
  },
  {
   "cell_type": "markdown",
   "metadata": {},
   "source": [
    "Then we ran function for all dataframes listed above, the process is skipped since it's too long <br>\n",
    "To fill time-series features for any dataset, can just call the following format: <br>\n",
    "- Fill_Time_Features(TimeXWinY, X)"
   ]
  },
  {
   "cell_type": "markdown",
   "metadata": {},
   "source": [
    "### 4.4 Final concatenation with same window length, drop time & orig_time, export dataset"
   ]
  },
  {
   "cell_type": "code",
   "execution_count": 168,
   "metadata": {},
   "outputs": [],
   "source": [
    "Part2_Win1 = pd.concat([Time3Win1, Time18Win1, Time33Win1, Time48Win1,\n",
    "                        Time8Win1, Time13Win1, Time23Win1, Time28Win1, \n",
    "                        Time38Win1, Time43Win1, Time53Win1, Time58Win1])\n",
    "\n",
    "Part2_Win3 = pd.concat([Time3Win3, Time18Win3, Time33Win3, Time48Win3,\n",
    "                        Time13Win3, Time28Win3, Time43Win3])\n",
    "\n",
    "Part2_Win6 = pd.concat([Time3Win6, Time18Win6, Time33Win6, Time48Win6,\n",
    "                        Time13Win6, Time43Win6])\n",
    "\n",
    "Part2_Win12 = pd.concat([Time3Win12, Time18Win12, Time33Win12, Time48Win12])"
   ]
  },
  {
   "cell_type": "code",
   "execution_count": 177,
   "metadata": {},
   "outputs": [],
   "source": [
    "drop = ['time','orig_time']\n",
    "Part2_Win1 = Part2_Win1.drop(columns=drop)\n",
    "Part2_Win3 = Part2_Win3.drop(columns=drop)\n",
    "Part2_Win6 = Part2_Win6.drop(columns=drop)\n",
    "Part2_Win12 = Part2_Win12.drop(columns=drop)"
   ]
  },
  {
   "cell_type": "code",
   "execution_count": 180,
   "metadata": {},
   "outputs": [],
   "source": [
    "Part2_Win1.to_csv('Part2_Win1.csv')\n",
    "Part2_Win3.to_csv('Part2_Win3.csv')\n",
    "Part2_Win6.to_csv('Part2_Win6.csv')\n",
    "Part2_Win12.to_csv('Part2_Win12.csv')"
   ]
  },
  {
   "cell_type": "markdown",
   "metadata": {},
   "source": [
    "Check number of lines in one dataset"
   ]
  },
  {
   "cell_type": "code",
   "execution_count": 92,
   "metadata": {},
   "outputs": [
    {
     "name": "stdout",
     "output_type": "stream",
     "text": [
      "   35729 Part2_Win12.csv\r\n"
     ]
    }
   ],
   "source": [
    "!wc -l Part2_Win12.csv"
   ]
  }
 ],
 "metadata": {
  "colab": {
   "collapsed_sections": [],
   "name": "11.23 FE.ipynb",
   "provenance": []
  },
  "kernelspec": {
   "display_name": "Python 3",
   "language": "python",
   "name": "python3"
  },
  "language_info": {
   "codemirror_mode": {
    "name": "ipython",
    "version": 3
   },
   "file_extension": ".py",
   "mimetype": "text/x-python",
   "name": "python",
   "nbconvert_exporter": "python",
   "pygments_lexer": "ipython3",
   "version": "3.7.3"
  }
 },
 "nbformat": 4,
 "nbformat_minor": 1
}
