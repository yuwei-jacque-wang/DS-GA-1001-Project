{
 "cells": [
  {
   "cell_type": "markdown",
   "metadata": {},
   "source": [
    "# DS-GA 1001 Project\n",
    "## Training Set and Feature Engineering (Part 1)\n",
    "\n",
    "This script creates training sample for Project Part 1 (Please refer to readme for details)\n",
    "***"
   ]
  },
  {
   "cell_type": "markdown",
   "metadata": {},
   "source": [
    "## 1. Load Data"
   ]
  },
  {
   "cell_type": "code",
   "execution_count": 12,
   "metadata": {
    "colab": {},
    "colab_type": "code",
    "id": "4gCsHrjm_-gC"
   },
   "outputs": [],
   "source": [
    "import pandas as pd\n",
    "import numpy as np\n",
    "import matplotlib.pyplot as plt\n",
    "import statistics \n",
    "%matplotlib inline\n",
    "from sklearn.model_selection import train_test_split"
   ]
  },
  {
   "cell_type": "code",
   "execution_count": 13,
   "metadata": {
    "colab": {
     "base_uri": "https://localhost:8080/",
     "height": 220
    },
    "colab_type": "code",
    "executionInfo": {
     "elapsed": 2348,
     "status": "ok",
     "timestamp": 1574554795174,
     "user": {
      "displayName": "Man Jin",
      "photoUrl": "",
      "userId": "09109181000609836024"
     },
     "user_tz": 300
    },
    "id": "Jj2xwDER_-gS",
    "outputId": "af181278-58a4-451b-eac8-e4935c5d3d74"
   },
   "outputs": [
    {
     "data": {
      "text/html": [
       "<div>\n",
       "<style scoped>\n",
       "    .dataframe tbody tr th:only-of-type {\n",
       "        vertical-align: middle;\n",
       "    }\n",
       "\n",
       "    .dataframe tbody tr th {\n",
       "        vertical-align: top;\n",
       "    }\n",
       "\n",
       "    .dataframe thead th {\n",
       "        text-align: right;\n",
       "    }\n",
       "</style>\n",
       "<table border=\"1\" class=\"dataframe\">\n",
       "  <thead>\n",
       "    <tr style=\"text-align: right;\">\n",
       "      <th></th>\n",
       "      <th>id</th>\n",
       "      <th>time</th>\n",
       "      <th>orig_time</th>\n",
       "      <th>first_time</th>\n",
       "      <th>mat_time</th>\n",
       "      <th>balance_time</th>\n",
       "      <th>LTV_time</th>\n",
       "      <th>interest_rate_time</th>\n",
       "      <th>hpi_time</th>\n",
       "      <th>gdp_time</th>\n",
       "      <th>...</th>\n",
       "      <th>REtype_SF_orig_time</th>\n",
       "      <th>investor_orig_time</th>\n",
       "      <th>balance_orig_time</th>\n",
       "      <th>FICO_orig_time</th>\n",
       "      <th>LTV_orig_time</th>\n",
       "      <th>Interest_Rate_orig_time</th>\n",
       "      <th>hpi_orig_time</th>\n",
       "      <th>default_time</th>\n",
       "      <th>payoff_time</th>\n",
       "      <th>status_time</th>\n",
       "    </tr>\n",
       "  </thead>\n",
       "  <tbody>\n",
       "    <tr>\n",
       "      <th>0</th>\n",
       "      <td>1</td>\n",
       "      <td>25</td>\n",
       "      <td>-7</td>\n",
       "      <td>25</td>\n",
       "      <td>113</td>\n",
       "      <td>41303.42</td>\n",
       "      <td>24.498336</td>\n",
       "      <td>9.2</td>\n",
       "      <td>226.29</td>\n",
       "      <td>2.899137</td>\n",
       "      <td>...</td>\n",
       "      <td>1</td>\n",
       "      <td>0</td>\n",
       "      <td>45000.0</td>\n",
       "      <td>715</td>\n",
       "      <td>69.4</td>\n",
       "      <td>9.2</td>\n",
       "      <td>87.03</td>\n",
       "      <td>0</td>\n",
       "      <td>0</td>\n",
       "      <td>0</td>\n",
       "    </tr>\n",
       "    <tr>\n",
       "      <th>1</th>\n",
       "      <td>1</td>\n",
       "      <td>26</td>\n",
       "      <td>-7</td>\n",
       "      <td>25</td>\n",
       "      <td>113</td>\n",
       "      <td>41061.95</td>\n",
       "      <td>24.483867</td>\n",
       "      <td>9.2</td>\n",
       "      <td>225.10</td>\n",
       "      <td>2.151365</td>\n",
       "      <td>...</td>\n",
       "      <td>1</td>\n",
       "      <td>0</td>\n",
       "      <td>45000.0</td>\n",
       "      <td>715</td>\n",
       "      <td>69.4</td>\n",
       "      <td>9.2</td>\n",
       "      <td>87.03</td>\n",
       "      <td>0</td>\n",
       "      <td>0</td>\n",
       "      <td>0</td>\n",
       "    </tr>\n",
       "    <tr>\n",
       "      <th>2</th>\n",
       "      <td>1</td>\n",
       "      <td>27</td>\n",
       "      <td>-7</td>\n",
       "      <td>25</td>\n",
       "      <td>113</td>\n",
       "      <td>40804.42</td>\n",
       "      <td>24.626795</td>\n",
       "      <td>9.2</td>\n",
       "      <td>222.39</td>\n",
       "      <td>2.361722</td>\n",
       "      <td>...</td>\n",
       "      <td>1</td>\n",
       "      <td>0</td>\n",
       "      <td>45000.0</td>\n",
       "      <td>715</td>\n",
       "      <td>69.4</td>\n",
       "      <td>9.2</td>\n",
       "      <td>87.03</td>\n",
       "      <td>0</td>\n",
       "      <td>0</td>\n",
       "      <td>0</td>\n",
       "    </tr>\n",
       "    <tr>\n",
       "      <th>3</th>\n",
       "      <td>1</td>\n",
       "      <td>28</td>\n",
       "      <td>-7</td>\n",
       "      <td>25</td>\n",
       "      <td>113</td>\n",
       "      <td>40483.89</td>\n",
       "      <td>24.735883</td>\n",
       "      <td>9.2</td>\n",
       "      <td>219.67</td>\n",
       "      <td>1.229172</td>\n",
       "      <td>...</td>\n",
       "      <td>1</td>\n",
       "      <td>0</td>\n",
       "      <td>45000.0</td>\n",
       "      <td>715</td>\n",
       "      <td>69.4</td>\n",
       "      <td>9.2</td>\n",
       "      <td>87.03</td>\n",
       "      <td>0</td>\n",
       "      <td>0</td>\n",
       "      <td>0</td>\n",
       "    </tr>\n",
       "    <tr>\n",
       "      <th>4</th>\n",
       "      <td>1</td>\n",
       "      <td>29</td>\n",
       "      <td>-7</td>\n",
       "      <td>25</td>\n",
       "      <td>113</td>\n",
       "      <td>40367.06</td>\n",
       "      <td>24.925476</td>\n",
       "      <td>9.2</td>\n",
       "      <td>217.37</td>\n",
       "      <td>1.692969</td>\n",
       "      <td>...</td>\n",
       "      <td>1</td>\n",
       "      <td>0</td>\n",
       "      <td>45000.0</td>\n",
       "      <td>715</td>\n",
       "      <td>69.4</td>\n",
       "      <td>9.2</td>\n",
       "      <td>87.03</td>\n",
       "      <td>0</td>\n",
       "      <td>0</td>\n",
       "      <td>0</td>\n",
       "    </tr>\n",
       "  </tbody>\n",
       "</table>\n",
       "<p>5 rows × 23 columns</p>\n",
       "</div>"
      ],
      "text/plain": [
       "   id  time  orig_time  first_time  mat_time  balance_time   LTV_time  \\\n",
       "0   1    25         -7          25       113      41303.42  24.498336   \n",
       "1   1    26         -7          25       113      41061.95  24.483867   \n",
       "2   1    27         -7          25       113      40804.42  24.626795   \n",
       "3   1    28         -7          25       113      40483.89  24.735883   \n",
       "4   1    29         -7          25       113      40367.06  24.925476   \n",
       "\n",
       "   interest_rate_time  hpi_time  gdp_time  ...  REtype_SF_orig_time  \\\n",
       "0                 9.2    226.29  2.899137  ...                    1   \n",
       "1                 9.2    225.10  2.151365  ...                    1   \n",
       "2                 9.2    222.39  2.361722  ...                    1   \n",
       "3                 9.2    219.67  1.229172  ...                    1   \n",
       "4                 9.2    217.37  1.692969  ...                    1   \n",
       "\n",
       "   investor_orig_time  balance_orig_time  FICO_orig_time  LTV_orig_time  \\\n",
       "0                   0            45000.0             715           69.4   \n",
       "1                   0            45000.0             715           69.4   \n",
       "2                   0            45000.0             715           69.4   \n",
       "3                   0            45000.0             715           69.4   \n",
       "4                   0            45000.0             715           69.4   \n",
       "\n",
       "   Interest_Rate_orig_time  hpi_orig_time  default_time  payoff_time  \\\n",
       "0                      9.2          87.03             0            0   \n",
       "1                      9.2          87.03             0            0   \n",
       "2                      9.2          87.03             0            0   \n",
       "3                      9.2          87.03             0            0   \n",
       "4                      9.2          87.03             0            0   \n",
       "\n",
       "   status_time  \n",
       "0            0  \n",
       "1            0  \n",
       "2            0  \n",
       "3            0  \n",
       "4            0  \n",
       "\n",
       "[5 rows x 23 columns]"
      ]
     },
     "execution_count": 13,
     "metadata": {},
     "output_type": "execute_result"
    }
   ],
   "source": [
    "Data = pd.read_csv(\"mortgage.csv\")\n",
    "Data.head()"
   ]
  },
  {
   "cell_type": "markdown",
   "metadata": {},
   "source": [
    "**Drop Duplicate Values**"
   ]
  },
  {
   "cell_type": "code",
   "execution_count": 14,
   "metadata": {},
   "outputs": [],
   "source": [
    "Data.drop_duplicates(keep = False, inplace = True)"
   ]
  },
  {
   "cell_type": "markdown",
   "metadata": {},
   "source": [
    "## 2. Fill NA Values"
   ]
  },
  {
   "cell_type": "markdown",
   "metadata": {},
   "source": [
    "There are two variables containing missing values: LTV_time and Interest_Rate_Orig_Time. <br>\n",
    "Since both variables are highly correlated with other variables, we fill in NA from an estimation of polynomial regression from other existing variables, with \"LinearRegression\" in sklearn package. We will not adopt all variables in feature engineering in later steps, so our filling NA method won't cause multicolinearity issue in the main model training. "
   ]
  },
  {
   "cell_type": "markdown",
   "metadata": {
    "colab_type": "text",
    "id": "yrk0cou3R7C7"
   },
   "source": [
    "### 2.1 FillNA for LTV_time"
   ]
  },
  {
   "cell_type": "code",
   "execution_count": 3,
   "metadata": {
    "colab": {
     "base_uri": "https://localhost:8080/",
     "height": 106
    },
    "colab_type": "code",
    "executionInfo": {
     "elapsed": 3532,
     "status": "ok",
     "timestamp": 1574554796381,
     "user": {
      "displayName": "Man Jin",
      "photoUrl": "",
      "userId": "09109181000609836024"
     },
     "user_tz": 300
    },
    "id": "OyhRrJbKR541",
    "outputId": "54499a41-40db-4cf4-a0c5-e2de886a63fc"
   },
   "outputs": [
    {
     "name": "stderr",
     "output_type": "stream",
     "text": [
      "/Users/yuweiwang/anaconda3/lib/python3.7/site-packages/ipykernel_launcher.py:1: SettingWithCopyWarning: \n",
      "A value is trying to be set on a copy of a slice from a DataFrame\n",
      "\n",
      "See the caveats in the documentation: http://pandas.pydata.org/pandas-docs/stable/indexing.html#indexing-view-versus-copy\n",
      "  \"\"\"Entry point for launching an IPython kernel.\n"
     ]
    }
   ],
   "source": [
    "Data['LTV_time'][Data['LTV_time']==0] = None\n",
    "\n",
    "ltv_sample = Data[~Data['LTV_time'].isnull()]\n",
    "corr = ltv_sample.corr()\n",
    "features = ltv_sample.columns[abs(corr.loc['LTV_time',:]) > 0.3]\n",
    "ltv_sample = ltv_sample[features]\n",
    "ltv_result_x = Data[features][Data['LTV_time'].isnull()].drop(['LTV_time'], axis = 1)\n"
   ]
  },
  {
   "cell_type": "code",
   "execution_count": 4,
   "metadata": {
    "colab": {},
    "colab_type": "code",
    "id": "ZbvZZrIueoGq"
   },
   "outputs": [],
   "source": [
    "train, test = train_test_split(ltv_sample, test_size=0.2)\n",
    "X_train, X_test = train.drop(['LTV_time'], axis = 1), test.drop(['LTV_time'], axis = 1)\n",
    "y_train, y_test = train['LTV_time'], test['LTV_time']"
   ]
  },
  {
   "cell_type": "code",
   "execution_count": 5,
   "metadata": {
    "colab": {},
    "colab_type": "code",
    "id": "beAelKmxfE3K"
   },
   "outputs": [],
   "source": [
    "from sklearn.preprocessing import PolynomialFeatures\n",
    "from sklearn.linear_model import LinearRegression\n",
    "from sklearn.pipeline import make_pipeline\n",
    "\n",
    "# score = {}\n",
    "# for degree in [1,2,3]:\n",
    "#     model = make_pipeline(PolynomialFeatures(degree), LinearRegression())\n",
    "#     model.fit(X_train,y_train)\n",
    "#     score[degree] = model.score(X_test, y_test)\n",
    "# display(score)"
   ]
  },
  {
   "cell_type": "code",
   "execution_count": 6,
   "metadata": {
    "colab": {
     "base_uri": "https://localhost:8080/",
     "height": 52
    },
    "colab_type": "code",
    "executionInfo": {
     "elapsed": 22763,
     "status": "ok",
     "timestamp": 1574554815681,
     "user": {
      "displayName": "Man Jin",
      "photoUrl": "",
      "userId": "09109181000609836024"
     },
     "user_tz": 300
    },
    "id": "6Asab-uPfaMA",
    "outputId": "8f9b9fec-acb0-4a05-ea44-112f3f80078f"
   },
   "outputs": [
    {
     "name": "stdout",
     "output_type": "stream",
     "text": [
      "Mean squared error: 64.62\n",
      "Variance score: 0.90\n"
     ]
    }
   ],
   "source": [
    "from sklearn.metrics import mean_squared_error, r2_score\n",
    "model = make_pipeline(PolynomialFeatures(3), LinearRegression())\n",
    "model.fit(X_train,y_train)\n",
    "# Make predictions using the testing set\n",
    "y_pred = model.predict(X_test)\n",
    "\n",
    "# The mean squared error\n",
    "print(\"Mean squared error: %.2f\" % mean_squared_error(y_test, y_pred))\n",
    "# Explained variance score: 1 is perfect prediction\n",
    "print('Variance score: %.2f' % r2_score(y_test, y_pred))"
   ]
  },
  {
   "cell_type": "code",
   "execution_count": 7,
   "metadata": {
    "colab": {},
    "colab_type": "code",
    "id": "mUkfspGTfaIS"
   },
   "outputs": [],
   "source": [
    "ltv_result_y = model.predict(ltv_result_x)\n",
    "Data.loc[Data['LTV_time'].isnull(), 'LTV_time'] = ltv_result_y"
   ]
  },
  {
   "cell_type": "markdown",
   "metadata": {
    "colab_type": "text",
    "id": "KW9opnWfgVhy"
   },
   "source": [
    "### 2.2 FillNA for Interest_Rate_orig_time"
   ]
  },
  {
   "cell_type": "code",
   "execution_count": 8,
   "metadata": {
    "colab": {
     "base_uri": "https://localhost:8080/",
     "height": 106
    },
    "colab_type": "code",
    "executionInfo": {
     "elapsed": 22343,
     "status": "ok",
     "timestamp": 1574554815686,
     "user": {
      "displayName": "Man Jin",
      "photoUrl": "",
      "userId": "09109181000609836024"
     },
     "user_tz": 300
    },
    "id": "mTEezawugUvf",
    "outputId": "49b1d85f-f7fc-4870-b009-d21d153d3692"
   },
   "outputs": [
    {
     "name": "stderr",
     "output_type": "stream",
     "text": [
      "/Users/yuweiwang/anaconda3/lib/python3.7/site-packages/ipykernel_launcher.py:1: SettingWithCopyWarning: \n",
      "A value is trying to be set on a copy of a slice from a DataFrame\n",
      "\n",
      "See the caveats in the documentation: http://pandas.pydata.org/pandas-docs/stable/indexing.html#indexing-view-versus-copy\n",
      "  \"\"\"Entry point for launching an IPython kernel.\n"
     ]
    }
   ],
   "source": [
    "Data['Interest_Rate_orig_time'][Data['Interest_Rate_orig_time']==0] = None"
   ]
  },
  {
   "cell_type": "code",
   "execution_count": 9,
   "metadata": {
    "colab": {},
    "colab_type": "code",
    "id": "4TfSE3VXudjb"
   },
   "outputs": [],
   "source": [
    "temp = Data['id'][Data['Interest_Rate_orig_time'].isnull()].value_counts()\n",
    "fill_val = {}\n",
    "for i in temp.index:\n",
    "  fill_val[Data[Data['id']==i].index[0]] = Data[Data['id'] == i]['interest_rate_time'].iloc[0]"
   ]
  },
  {
   "cell_type": "code",
   "execution_count": 10,
   "metadata": {
    "colab": {},
    "colab_type": "code",
    "id": "UzsuNSMyusXI"
   },
   "outputs": [],
   "source": [
    "Data['Interest_Rate_orig_time'] = Data['Interest_Rate_orig_time'].fillna(fill_val)\n",
    "Data.fillna(method = 'ffill', inplace=True)"
   ]
  },
  {
   "cell_type": "markdown",
   "metadata": {
    "colab_type": "text",
    "id": "sXyBPpey_-gy"
   },
   "source": [
    "## 3. Feature Engineering Functions (for time-series features)"
   ]
  },
  {
   "cell_type": "markdown",
   "metadata": {
    "colab_type": "text",
    "id": "CW1FEt9j_-g7"
   },
   "source": [
    "### 3.1 Get a complete monthly payment history for certain borrower for all available periods"
   ]
  },
  {
   "cell_type": "markdown",
   "metadata": {},
   "source": [
    "Function: **MonthlyPayment(ID)**\n",
    "- Input: ID\n",
    "- Return: a list containing monthly payment for all available months\n",
    "- Method: detect starting and ending (first and last) available observation time, calculate difference between two remaining balances and store into list. "
   ]
  },
  {
   "cell_type": "code",
   "execution_count": 125,
   "metadata": {},
   "outputs": [],
   "source": [
    "def MonthlyPayment(ID):\n",
    "    Payment = []\n",
    "    \n",
    "    timeStart = Data.groupby(['id'])['time'].min()\n",
    "    timeEnd = Data.groupby(['id'])['time'].max()\n",
    "    timeStart = timeStart.to_frame()\n",
    "    timeEnd = timeEnd.to_frame()\n",
    "    \n",
    "    for time in range(timeStart.loc[ID].values[0], timeEnd.loc[ID].values[0]):\n",
    "        condition1 = (time+1 <= timeEnd.loc[ID].values[0])\n",
    "        condition2 = (time in set(Data[Data['id']==ID]['time']))\n",
    "        condition3 = (time+1 in set(Data[Data['id']==ID]['time']))\n",
    "        \n",
    "        if condition1 and condition2 and condition3:\n",
    "            Balance1 = Data[Data['id']==ID][Data['time']==time]['balance_time'].values[0]\n",
    "            Balance2 = Data[Data['id']==ID][Data['time']==(time+1)]['balance_time'].values[0]\n",
    "            monthlyPay = Balance1 - Balance2\n",
    "            Payment = Payment + [monthlyPay]\n",
    "        else:\n",
    "            continue\n",
    "    return Payment"
   ]
  },
  {
   "cell_type": "markdown",
   "metadata": {
    "colab_type": "text",
    "id": "RyvLcdSl_-hK"
   },
   "source": [
    "### 3.2 Mean, Std, Min, Max for total payment history or up to given time"
   ]
  },
  {
   "cell_type": "code",
   "execution_count": 139,
   "metadata": {
    "colab": {},
    "colab_type": "code",
    "id": "dSAlaykT_-hL"
   },
   "outputs": [],
   "source": [
    "def meanMonthlyPayment(ID):\n",
    "    if len(MonthlyPaymentNew(ID))>=1:\n",
    "        return statistics.mean(MonthlyPaymentNew(ID))\n",
    "    else:\n",
    "        return 0\n",
    "\n",
    "def stdMonthlyPayment(ID):\n",
    "    if len(MonthlyPaymentNew(ID))>= 2:\n",
    "        return statistics.stdev(MonthlyPaymentNew(ID))\n",
    "    else:\n",
    "        return 0\n",
    "\n",
    "def maxMonthlyPayment(ID):\n",
    "    if len(MonthlyPaymentNew(ID))>=1:\n",
    "        return max(MonthlyPaymentNew(ID))\n",
    "    else:\n",
    "        return 0\n",
    "\n",
    "def minMonthlyPayment(ID):\n",
    "    if len(MonthlyPaymentNew(ID))>=1:\n",
    "        return min(MonthlyPaymentNew(ID))\n",
    "    else:\n",
    "        return 0"
   ]
  },
  {
   "cell_type": "markdown",
   "metadata": {},
   "source": [
    "A combined function for all features above: **CombinedMonthlyPayment(ID)**\n",
    "- Input: Borrower ID\n",
    "- Return: A list of following values:\n",
    "    - avg: average payment per month\n",
    "    - maxi: maximum payment\n",
    "    - mini: minimum payment\n",
    "    - std: standard deviation of peyment\n",
    "    - record0: number of 0 amount payment throughout history\n",
    "    - recordLow: number of payments lower than mean - 1*std in history\n",
    "- Method: \n",
    "    - Call MonthlyPayment to get a series for history\n",
    "    - Calculate avg, maxi, mini, std from built-in functions\n",
    "    - record0 and recordLow are counted from for loop"
   ]
  },
  {
   "cell_type": "code",
   "execution_count": 22,
   "metadata": {},
   "outputs": [],
   "source": [
    "# This is a combined function, to improve efficiency\n",
    "def CombinedMonthlyPayment(ID):\n",
    "    sr = MonthlyPayment(ID)\n",
    "    \n",
    "    if len(sr)>=1:\n",
    "        avg = statistics.mean(sr)\n",
    "        maxi = max(sr)\n",
    "        mini = min(sr)\n",
    "        if len(sr)>=2:\n",
    "            std = statistics.stdev(sr)\n",
    "        else:\n",
    "            std = 0\n",
    "    else:\n",
    "        avg = 0\n",
    "        maxi = 0\n",
    "        mini = 0\n",
    "        std = 0\n",
    "    \n",
    "    record0 = 0\n",
    "    recordLow = 0\n",
    "    for i in range(len(sr)):\n",
    "        if sr[i] <= 0:\n",
    "            record0 += 1\n",
    "        if sr[i] <= avg-std:\n",
    "            recordLow += 1\n",
    "    \n",
    "    return (avg, std, maxi, mini, record0, recordLow)"
   ]
  },
  {
   "cell_type": "markdown",
   "metadata": {
    "colab_type": "text",
    "id": "yxbJjWVx_-hy"
   },
   "source": [
    "## 4. Create training set (by borrower)"
   ]
  },
  {
   "cell_type": "markdown",
   "metadata": {
    "colab_type": "text",
    "id": "isbtOLRg_-h0"
   },
   "source": [
    "**List of features**\n",
    "- mat_time: maturity time for loan (as original)\n",
    "- balance_orig: initial balance, from balance_orig_time\n",
    "- balance_last: remaining balance before default/payoff\n",
    "- LTV_avg: average LTV_time\n",
    "- LTV_orig: same as LTV_orig_time\n",
    "- interest_avg: average interest_rate_time\n",
    "- interest_orig: same as Interest_Rate_orig_time\n",
    "- hpi_avg: average hpi_time\n",
    "- hpi_orig: same as hpi_orig_time\n",
    "- gdp_avg: average gdp_time\n",
    "- uer_avg: average uer_time\n",
    "- REtype_CO, REtype_PU, REtype_SF: as original\n",
    "- investor, FICO: same as _orig_time\n",
    "\n",
    "**Created features**\n",
    "- payment_hist: total length of history, time.last - orig_time\n",
    "- avg_payment: average amount of payment every month\n",
    "- std_payment: std of payment every month\n",
    "- max_payment: max of payment every month\n",
    "- min_payment: min of payment every month\n",
    "- count_zero_payment: number of 0 payments\n",
    "- count_low_payment: number of payments < mean - 1*std"
   ]
  },
  {
   "cell_type": "markdown",
   "metadata": {},
   "source": [
    "### 4.1 Original Features"
   ]
  },
  {
   "cell_type": "code",
   "execution_count": 33,
   "metadata": {
    "colab": {},
    "colab_type": "code",
    "id": "fi7w_yQt_-h1",
    "outputId": "4370fade-64ab-4dbc-d39b-c55747cf40a5"
   },
   "outputs": [
    {
     "data": {
      "text/html": [
       "<div>\n",
       "<style scoped>\n",
       "    .dataframe tbody tr th:only-of-type {\n",
       "        vertical-align: middle;\n",
       "    }\n",
       "\n",
       "    .dataframe tbody tr th {\n",
       "        vertical-align: top;\n",
       "    }\n",
       "\n",
       "    .dataframe thead th {\n",
       "        text-align: right;\n",
       "    }\n",
       "</style>\n",
       "<table border=\"1\" class=\"dataframe\">\n",
       "  <thead>\n",
       "    <tr style=\"text-align: right;\">\n",
       "      <th></th>\n",
       "      <th>mat_time</th>\n",
       "      <th>investor</th>\n",
       "      <th>balance_orig</th>\n",
       "      <th>FICO</th>\n",
       "      <th>LTV_orig</th>\n",
       "      <th>interest_orig</th>\n",
       "      <th>hpi_orig</th>\n",
       "      <th>balance_last</th>\n",
       "      <th>LTV_time</th>\n",
       "      <th>interest_rate_time</th>\n",
       "      <th>hpi_time</th>\n",
       "      <th>gdp_time</th>\n",
       "      <th>uer_time</th>\n",
       "      <th>REtype_CO</th>\n",
       "      <th>REtype_PU</th>\n",
       "      <th>REtype_SF</th>\n",
       "      <th>default_time</th>\n",
       "      <th>payoff_time</th>\n",
       "      <th>status_time</th>\n",
       "    </tr>\n",
       "    <tr>\n",
       "      <th>id</th>\n",
       "      <th></th>\n",
       "      <th></th>\n",
       "      <th></th>\n",
       "      <th></th>\n",
       "      <th></th>\n",
       "      <th></th>\n",
       "      <th></th>\n",
       "      <th></th>\n",
       "      <th></th>\n",
       "      <th></th>\n",
       "      <th></th>\n",
       "      <th></th>\n",
       "      <th></th>\n",
       "      <th></th>\n",
       "      <th></th>\n",
       "      <th></th>\n",
       "      <th></th>\n",
       "      <th></th>\n",
       "      <th></th>\n",
       "    </tr>\n",
       "  </thead>\n",
       "  <tbody>\n",
       "    <tr>\n",
       "      <th>1</th>\n",
       "      <td>113</td>\n",
       "      <td>0</td>\n",
       "      <td>45000.0</td>\n",
       "      <td>715</td>\n",
       "      <td>69.4</td>\n",
       "      <td>9.200</td>\n",
       "      <td>87.03</td>\n",
       "      <td>29087.21</td>\n",
       "      <td>26.319186</td>\n",
       "      <td>9.200000</td>\n",
       "      <td>176.657917</td>\n",
       "      <td>0.879284</td>\n",
       "      <td>7.241667</td>\n",
       "      <td>0</td>\n",
       "      <td>0</td>\n",
       "      <td>1</td>\n",
       "      <td>1</td>\n",
       "      <td>0</td>\n",
       "      <td>1</td>\n",
       "    </tr>\n",
       "    <tr>\n",
       "      <th>2</th>\n",
       "      <td>138</td>\n",
       "      <td>0</td>\n",
       "      <td>107200.0</td>\n",
       "      <td>558</td>\n",
       "      <td>80.0</td>\n",
       "      <td>7.680</td>\n",
       "      <td>186.91</td>\n",
       "      <td>105654.77</td>\n",
       "      <td>65.350597</td>\n",
       "      <td>7.680000</td>\n",
       "      <td>225.695000</td>\n",
       "      <td>2.525251</td>\n",
       "      <td>4.700000</td>\n",
       "      <td>0</td>\n",
       "      <td>0</td>\n",
       "      <td>1</td>\n",
       "      <td>0</td>\n",
       "      <td>1</td>\n",
       "      <td>2</td>\n",
       "    </tr>\n",
       "    <tr>\n",
       "      <th>3</th>\n",
       "      <td>114</td>\n",
       "      <td>0</td>\n",
       "      <td>48600.0</td>\n",
       "      <td>680</td>\n",
       "      <td>83.6</td>\n",
       "      <td>8.750</td>\n",
       "      <td>89.58</td>\n",
       "      <td>44378.60</td>\n",
       "      <td>30.953371</td>\n",
       "      <td>11.025000</td>\n",
       "      <td>222.164000</td>\n",
       "      <td>2.066873</td>\n",
       "      <td>4.580000</td>\n",
       "      <td>0</td>\n",
       "      <td>0</td>\n",
       "      <td>1</td>\n",
       "      <td>0</td>\n",
       "      <td>1</td>\n",
       "      <td>2</td>\n",
       "    </tr>\n",
       "    <tr>\n",
       "      <th>4</th>\n",
       "      <td>119</td>\n",
       "      <td>0</td>\n",
       "      <td>63750.0</td>\n",
       "      <td>587</td>\n",
       "      <td>81.8</td>\n",
       "      <td>10.500</td>\n",
       "      <td>97.99</td>\n",
       "      <td>52686.35</td>\n",
       "      <td>41.626867</td>\n",
       "      <td>10.107143</td>\n",
       "      <td>176.642286</td>\n",
       "      <td>1.264322</td>\n",
       "      <td>7.162857</td>\n",
       "      <td>0</td>\n",
       "      <td>0</td>\n",
       "      <td>1</td>\n",
       "      <td>0</td>\n",
       "      <td>0</td>\n",
       "      <td>0</td>\n",
       "    </tr>\n",
       "    <tr>\n",
       "      <th>5</th>\n",
       "      <td>138</td>\n",
       "      <td>0</td>\n",
       "      <td>52800.0</td>\n",
       "      <td>527</td>\n",
       "      <td>80.0</td>\n",
       "      <td>9.155</td>\n",
       "      <td>186.91</td>\n",
       "      <td>52100.71</td>\n",
       "      <td>65.821242</td>\n",
       "      <td>9.155000</td>\n",
       "      <td>224.593333</td>\n",
       "      <td>2.470741</td>\n",
       "      <td>4.600000</td>\n",
       "      <td>0</td>\n",
       "      <td>0</td>\n",
       "      <td>1</td>\n",
       "      <td>0</td>\n",
       "      <td>1</td>\n",
       "      <td>2</td>\n",
       "    </tr>\n",
       "  </tbody>\n",
       "</table>\n",
       "</div>"
      ],
      "text/plain": [
       "    mat_time  investor  balance_orig  FICO  LTV_orig  interest_orig  hpi_orig  \\\n",
       "id                                                                              \n",
       "1        113         0       45000.0   715      69.4          9.200     87.03   \n",
       "2        138         0      107200.0   558      80.0          7.680    186.91   \n",
       "3        114         0       48600.0   680      83.6          8.750     89.58   \n",
       "4        119         0       63750.0   587      81.8         10.500     97.99   \n",
       "5        138         0       52800.0   527      80.0          9.155    186.91   \n",
       "\n",
       "    balance_last   LTV_time  interest_rate_time    hpi_time  gdp_time  \\\n",
       "id                                                                      \n",
       "1       29087.21  26.319186            9.200000  176.657917  0.879284   \n",
       "2      105654.77  65.350597            7.680000  225.695000  2.525251   \n",
       "3       44378.60  30.953371           11.025000  222.164000  2.066873   \n",
       "4       52686.35  41.626867           10.107143  176.642286  1.264322   \n",
       "5       52100.71  65.821242            9.155000  224.593333  2.470741   \n",
       "\n",
       "    uer_time  REtype_CO  REtype_PU  REtype_SF  default_time  payoff_time  \\\n",
       "id                                                                         \n",
       "1   7.241667          0          0          1             1            0   \n",
       "2   4.700000          0          0          1             0            1   \n",
       "3   4.580000          0          0          1             0            1   \n",
       "4   7.162857          0          0          1             0            0   \n",
       "5   4.600000          0          0          1             0            1   \n",
       "\n",
       "    status_time  \n",
       "id               \n",
       "1             1  \n",
       "2             2  \n",
       "3             2  \n",
       "4             0  \n",
       "5             2  "
      ]
     },
     "execution_count": 33,
     "metadata": {},
     "output_type": "execute_result"
    }
   ],
   "source": [
    "# This part creates a dataframe containing all features listed above except for \"Created features\"\n",
    "\n",
    "mat_time = Data.groupby(['id'])['mat_time'].first()\n",
    "orig = Data.groupby(['id'])['investor_orig_time', 'balance_orig_time', 'FICO_orig_time',\n",
    "       'LTV_orig_time', 'Interest_Rate_orig_time', 'hpi_orig_time',].first()\n",
    "orig.rename(columns={\"investor_orig_time\": \"investor\", \"balance_orig_time\": \"balance_orig\", \"FICO_orig_time\": \"FICO\"\n",
    "                    , \"LTV_orig_time\":\"LTV_orig\", \"Interest_Rate_orig_time\": \"interest_orig\", \n",
    "                    \"hpi_orig_time\": \"hpi_orig\"}, inplace=True)\n",
    "\n",
    "balance_last = Data.groupby(['id'])[['balance_time']].last()\n",
    "balance_last.rename(columns={\"balance_time\": \"balance_last\"}, inplace=True)\n",
    "\n",
    "means = Data.groupby(['id'])['LTV_time', 'interest_rate_time','hpi_time', \n",
    "                            'gdp_time','uer_time'].mean()\n",
    "balance_last.rename(columns={\"LTV_time\": \"LTV_avg\", 'interest_rate_time': 'interest_avg', \n",
    "                            'hpi_time':'hpi_avg', 'gdp_time': 'gdp_avg', 'uer_time': 'uer_avg'}, inplace=True)\n",
    "\n",
    "REtype = Data.groupby(['id'])['REtype_CO_orig_time', 'REtype_PU_orig_time', 'REtype_SF_orig_time'].first()\n",
    "REtype.rename(columns={\"REtype_CO_orig_time\": \"REtype_CO\", \"REtype_PU_orig_time\":'REtype_PU',\n",
    "                      \"REtype_SF_orig_time\": 'REtype_SF'}, inplace=True)\n",
    "\n",
    "target = Data.groupby(['id'])['default_time', 'payoff_time','status_time'].max()\n",
    "\n",
    "Part1Data = pd.DataFrame(mat_time)\n",
    "Part1Data = Part1Data.join(orig).join(balance_last).join(means).join(REtype).join(target)\n",
    "Part1Data.head()"
   ]
  },
  {
   "cell_type": "markdown",
   "metadata": {
    "colab": {},
    "colab_type": "code",
    "id": "ve8DxCau_-h4"
   },
   "source": [
    "### 4.2 Created Features"
   ]
  },
  {
   "cell_type": "code",
   "execution_count": 35,
   "metadata": {},
   "outputs": [],
   "source": [
    "# Payment History Length for each borrower\n",
    "payment_hist = Data.groupby(['id'])['time'].last() - Data.groupby(['id'])['orig_time'].first()\n",
    "Part1Data['payment_hist'] = payment_hist"
   ]
  },
  {
   "cell_type": "markdown",
   "metadata": {},
   "source": [
    "**Fill time series features by CombinedMonthlyPayment(ID), for loop over each ID in data set**\n",
    "(The output only shows for one dataset. The running process for other data sets have been removed)"
   ]
  },
  {
   "cell_type": "code",
   "execution_count": null,
   "metadata": {},
   "outputs": [],
   "source": [
    "# Everything else in the list\n",
    "avg_payment = []\n",
    "std_payment = []\n",
    "max_payment = []\n",
    "min_payment = []\n",
    "count_zero_payment = []\n",
    "count_low_payment = []\n",
    "IDcount = 0\n",
    "\n",
    "for ID in range(1,50000+1):\n",
    "    v1, v2, v3, v4, v5, v6 = CombinedMonthlyPayment(ID)\n",
    "    avg_payment.append(v1)\n",
    "    std_payment.append(v2)\n",
    "    max_payment.append(v3)\n",
    "    min_payment.append(v4)\n",
    "    count_zero_payment.append(v5)\n",
    "    count_low_payment.append(v6)\n",
    "    IDcount +=1\n",
    "    \n",
    "    # The print line is only for helping track process\n",
    "    print(IDcount)\n",
    "    \n",
    "# Running output was removed due to space limit"
   ]
  },
  {
   "cell_type": "markdown",
   "metadata": {},
   "source": [
    "### 4.3 Put calculated values into new columns"
   ]
  },
  {
   "cell_type": "code",
   "execution_count": 147,
   "metadata": {},
   "outputs": [],
   "source": [
    "Part1Data['avg_payment'] = avg_payment\n",
    "Part1Data['std_payment'] = std_payment\n",
    "Part1Data['max_payment'] = max_payment\n",
    "Part1Data['min_payment'] = min_payment\n",
    "Part1Data['count_zero_payment'] = count_zero_payment\n",
    "Part1Data['count_low_payment'] = count_low_payment"
   ]
  },
  {
   "cell_type": "code",
   "execution_count": 148,
   "metadata": {},
   "outputs": [
    {
     "data": {
      "text/html": [
       "<div>\n",
       "<style scoped>\n",
       "    .dataframe tbody tr th:only-of-type {\n",
       "        vertical-align: middle;\n",
       "    }\n",
       "\n",
       "    .dataframe tbody tr th {\n",
       "        vertical-align: top;\n",
       "    }\n",
       "\n",
       "    .dataframe thead th {\n",
       "        text-align: right;\n",
       "    }\n",
       "</style>\n",
       "<table border=\"1\" class=\"dataframe\">\n",
       "  <thead>\n",
       "    <tr style=\"text-align: right;\">\n",
       "      <th></th>\n",
       "      <th>mat_time</th>\n",
       "      <th>investor</th>\n",
       "      <th>balance_orig</th>\n",
       "      <th>FICO</th>\n",
       "      <th>LTV_orig</th>\n",
       "      <th>interest_orig</th>\n",
       "      <th>hpi_orig</th>\n",
       "      <th>balance_last</th>\n",
       "      <th>LTV_time</th>\n",
       "      <th>interest_rate_time</th>\n",
       "      <th>...</th>\n",
       "      <th>default_time</th>\n",
       "      <th>payoff_time</th>\n",
       "      <th>status_time</th>\n",
       "      <th>payment_hist</th>\n",
       "      <th>avg_payment</th>\n",
       "      <th>std_payment</th>\n",
       "      <th>max_payment</th>\n",
       "      <th>min_payment</th>\n",
       "      <th>count_zero_payment</th>\n",
       "      <th>count_low_payment</th>\n",
       "    </tr>\n",
       "    <tr>\n",
       "      <th>id</th>\n",
       "      <th></th>\n",
       "      <th></th>\n",
       "      <th></th>\n",
       "      <th></th>\n",
       "      <th></th>\n",
       "      <th></th>\n",
       "      <th></th>\n",
       "      <th></th>\n",
       "      <th></th>\n",
       "      <th></th>\n",
       "      <th></th>\n",
       "      <th></th>\n",
       "      <th></th>\n",
       "      <th></th>\n",
       "      <th></th>\n",
       "      <th></th>\n",
       "      <th></th>\n",
       "      <th></th>\n",
       "      <th></th>\n",
       "      <th></th>\n",
       "      <th></th>\n",
       "    </tr>\n",
       "  </thead>\n",
       "  <tbody>\n",
       "    <tr>\n",
       "      <th>1</th>\n",
       "      <td>113</td>\n",
       "      <td>0</td>\n",
       "      <td>45000.0</td>\n",
       "      <td>715</td>\n",
       "      <td>69.4</td>\n",
       "      <td>9.200</td>\n",
       "      <td>87.03</td>\n",
       "      <td>29087.21</td>\n",
       "      <td>26.319186</td>\n",
       "      <td>9.200000</td>\n",
       "      <td>...</td>\n",
       "      <td>1</td>\n",
       "      <td>0</td>\n",
       "      <td>1</td>\n",
       "      <td>55</td>\n",
       "      <td>531.139565</td>\n",
       "      <td>787.563229</td>\n",
       "      <td>3841.63</td>\n",
       "      <td>0.00</td>\n",
       "      <td>3</td>\n",
       "      <td>0</td>\n",
       "    </tr>\n",
       "    <tr>\n",
       "      <th>2</th>\n",
       "      <td>138</td>\n",
       "      <td>0</td>\n",
       "      <td>107200.0</td>\n",
       "      <td>558</td>\n",
       "      <td>80.0</td>\n",
       "      <td>7.680</td>\n",
       "      <td>186.91</td>\n",
       "      <td>105654.77</td>\n",
       "      <td>65.350597</td>\n",
       "      <td>7.680000</td>\n",
       "      <td>...</td>\n",
       "      <td>0</td>\n",
       "      <td>1</td>\n",
       "      <td>2</td>\n",
       "      <td>8</td>\n",
       "      <td>171.610000</td>\n",
       "      <td>0.000000</td>\n",
       "      <td>171.61</td>\n",
       "      <td>171.61</td>\n",
       "      <td>0</td>\n",
       "      <td>1</td>\n",
       "    </tr>\n",
       "    <tr>\n",
       "      <th>3</th>\n",
       "      <td>114</td>\n",
       "      <td>0</td>\n",
       "      <td>48600.0</td>\n",
       "      <td>680</td>\n",
       "      <td>83.6</td>\n",
       "      <td>8.750</td>\n",
       "      <td>89.58</td>\n",
       "      <td>44378.60</td>\n",
       "      <td>30.953371</td>\n",
       "      <td>11.025000</td>\n",
       "      <td>...</td>\n",
       "      <td>0</td>\n",
       "      <td>1</td>\n",
       "      <td>2</td>\n",
       "      <td>35</td>\n",
       "      <td>121.895000</td>\n",
       "      <td>4.120142</td>\n",
       "      <td>126.17</td>\n",
       "      <td>116.93</td>\n",
       "      <td>0</td>\n",
       "      <td>1</td>\n",
       "    </tr>\n",
       "    <tr>\n",
       "      <th>4</th>\n",
       "      <td>119</td>\n",
       "      <td>0</td>\n",
       "      <td>63750.0</td>\n",
       "      <td>587</td>\n",
       "      <td>81.8</td>\n",
       "      <td>10.500</td>\n",
       "      <td>97.99</td>\n",
       "      <td>52686.35</td>\n",
       "      <td>41.626867</td>\n",
       "      <td>10.107143</td>\n",
       "      <td>...</td>\n",
       "      <td>0</td>\n",
       "      <td>0</td>\n",
       "      <td>0</td>\n",
       "      <td>62</td>\n",
       "      <td>235.307879</td>\n",
       "      <td>66.681358</td>\n",
       "      <td>361.85</td>\n",
       "      <td>148.68</td>\n",
       "      <td>0</td>\n",
       "      <td>8</td>\n",
       "    </tr>\n",
       "    <tr>\n",
       "      <th>5</th>\n",
       "      <td>138</td>\n",
       "      <td>0</td>\n",
       "      <td>52800.0</td>\n",
       "      <td>527</td>\n",
       "      <td>80.0</td>\n",
       "      <td>9.155</td>\n",
       "      <td>186.91</td>\n",
       "      <td>52100.71</td>\n",
       "      <td>65.821242</td>\n",
       "      <td>9.155000</td>\n",
       "      <td>...</td>\n",
       "      <td>0</td>\n",
       "      <td>1</td>\n",
       "      <td>2</td>\n",
       "      <td>9</td>\n",
       "      <td>97.180000</td>\n",
       "      <td>1.569777</td>\n",
       "      <td>98.29</td>\n",
       "      <td>96.07</td>\n",
       "      <td>0</td>\n",
       "      <td>0</td>\n",
       "    </tr>\n",
       "  </tbody>\n",
       "</table>\n",
       "<p>5 rows × 26 columns</p>\n",
       "</div>"
      ],
      "text/plain": [
       "    mat_time  investor  balance_orig  FICO  LTV_orig  interest_orig  hpi_orig  \\\n",
       "id                                                                              \n",
       "1        113         0       45000.0   715      69.4          9.200     87.03   \n",
       "2        138         0      107200.0   558      80.0          7.680    186.91   \n",
       "3        114         0       48600.0   680      83.6          8.750     89.58   \n",
       "4        119         0       63750.0   587      81.8         10.500     97.99   \n",
       "5        138         0       52800.0   527      80.0          9.155    186.91   \n",
       "\n",
       "    balance_last   LTV_time  interest_rate_time  ...  default_time  \\\n",
       "id                                               ...                 \n",
       "1       29087.21  26.319186            9.200000  ...             1   \n",
       "2      105654.77  65.350597            7.680000  ...             0   \n",
       "3       44378.60  30.953371           11.025000  ...             0   \n",
       "4       52686.35  41.626867           10.107143  ...             0   \n",
       "5       52100.71  65.821242            9.155000  ...             0   \n",
       "\n",
       "    payoff_time  status_time  payment_hist  avg_payment  std_payment  \\\n",
       "id                                                                     \n",
       "1             0            1            55   531.139565   787.563229   \n",
       "2             1            2             8   171.610000     0.000000   \n",
       "3             1            2            35   121.895000     4.120142   \n",
       "4             0            0            62   235.307879    66.681358   \n",
       "5             1            2             9    97.180000     1.569777   \n",
       "\n",
       "    max_payment  min_payment  count_zero_payment  count_low_payment  \n",
       "id                                                                   \n",
       "1       3841.63         0.00                   3                  0  \n",
       "2        171.61       171.61                   0                  1  \n",
       "3        126.17       116.93                   0                  1  \n",
       "4        361.85       148.68                   0                  8  \n",
       "5         98.29        96.07                   0                  0  \n",
       "\n",
       "[5 rows x 26 columns]"
      ]
     },
     "execution_count": 148,
     "metadata": {},
     "output_type": "execute_result"
    }
   ],
   "source": [
    "Part1Data.head()"
   ]
  },
  {
   "cell_type": "code",
   "execution_count": 149,
   "metadata": {},
   "outputs": [],
   "source": [
    "Part1Data.to_csv('Part1Data.csv')"
   ]
  }
 ],
 "metadata": {
  "colab": {
   "collapsed_sections": [],
   "name": "11.23 FE.ipynb",
   "provenance": []
  },
  "kernelspec": {
   "display_name": "Python 3",
   "language": "python",
   "name": "python3"
  },
  "language_info": {
   "codemirror_mode": {
    "name": "ipython",
    "version": 3
   },
   "file_extension": ".py",
   "mimetype": "text/x-python",
   "name": "python",
   "nbconvert_exporter": "python",
   "pygments_lexer": "ipython3",
   "version": "3.7.3"
  }
 },
 "nbformat": 4,
 "nbformat_minor": 1
}
